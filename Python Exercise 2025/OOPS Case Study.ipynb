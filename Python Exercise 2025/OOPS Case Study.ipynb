{
 "cells": [
  {
   "cell_type": "markdown",
   "id": "d8c4a172",
   "metadata": {},
   "source": [
    "# OOPS CASE STUDY"
   ]
  },
  {
   "cell_type": "code",
   "execution_count": 3,
   "id": "a1659aa4",
   "metadata": {},
   "outputs": [
    {
     "name": "stdout",
     "output_type": "stream",
     "text": [
      "Alice borrowed The Alchemist\n",
      "Dr. Smith borrowed Digital Fortress\n",
      "Alice returned The Alchemist\n"
     ]
    }
   ],
   "source": [
    "from abc import ABC, abstractmethod\n",
    "\n",
    "# Abstract class for Book\n",
    "class Book(ABC):\n",
    "    def __init__(self, title, author, isbn):\n",
    "        self.title = title\n",
    "        self.author = author\n",
    "        self.isbn = isbn\n",
    "    \n",
    "    @abstractmethod\n",
    "    def check_availability(self):\n",
    "        pass\n",
    "\n",
    "# Physical Book class\n",
    "class PhysicalBook(Book):\n",
    "    def __init__(self, title, author, isbn, copies):\n",
    "        super().__init__(title, author, isbn)\n",
    "        self.__copies = copies  # Private attribute\n",
    "    \n",
    "    def check_availability(self):\n",
    "        return self.__copies > 0\n",
    "    \n",
    "    def borrow(self):\n",
    "        if self.__copies > 0:\n",
    "            self.__copies -= 1\n",
    "            return True\n",
    "        return False\n",
    "    \n",
    "    def return_book(self):\n",
    "        self.__copies += 1\n",
    "\n",
    "# E-Book class\n",
    "class EBook(Book):\n",
    "    def __init__(self, title, author, isbn):\n",
    "        super().__init__(title, author, isbn)\n",
    "    \n",
    "    def check_availability(self):\n",
    "        return True  # E-books are always available\n",
    "\n",
    "# User class\n",
    "class User:\n",
    "    def __init__(self, name, user_type):\n",
    "        self.name = name\n",
    "        self.user_type = user_type\n",
    "        self.borrowed_books = []\n",
    "    \n",
    "    def borrow_book(self, book):\n",
    "        if book.check_availability():\n",
    "            if isinstance(book, PhysicalBook) and book.borrow():\n",
    "                self.borrowed_books.append(book)\n",
    "                print(f\"{self.name} borrowed {book.title}\")\n",
    "            elif isinstance(book, EBook):\n",
    "                self.borrowed_books.append(book)\n",
    "                print(f\"{self.name} borrowed {book.title}\")\n",
    "        else:\n",
    "            print(\"Book not available.\")\n",
    "    \n",
    "    def return_book(self, book):\n",
    "        if book in self.borrowed_books:\n",
    "            self.borrowed_books.remove(book)\n",
    "            if isinstance(book, PhysicalBook):\n",
    "                book.return_book()\n",
    "            print(f\"{self.name} returned {book.title}\")\n",
    "\n",
    "# Student and Professor classes\n",
    "class Student(User):\n",
    "    def __init__(self, name):\n",
    "        super().__init__(name, \"Student\")\n",
    "\n",
    "class Professor(User):\n",
    "    def __init__(self, name):\n",
    "        super().__init__(name, \"Professor\")\n",
    "\n",
    "# Book Catalog class\n",
    "class BookCatalog:\n",
    "    def __init__(self):\n",
    "        self.books = []\n",
    "    \n",
    "    def add_book(self, book):\n",
    "        self.books.append(book)\n",
    "    \n",
    "    def search_by_title(self, title):\n",
    "        return [book for book in self.books if book.title.lower() == title.lower()]\n",
    "\n",
    "# Testing the implementation\n",
    "if __name__ == \"__main__\":\n",
    "    catalog = BookCatalog()\n",
    "    \n",
    "    book1 = PhysicalBook(\"The Alchemist\", \"Paulo Coelho\", \"12345\", 2)\n",
    "    book2 = EBook(\"Digital Fortress\", \"Dan Brown\", \"67890\")\n",
    "    \n",
    "    catalog.add_book(book1)\n",
    "    catalog.add_book(book2)\n",
    "    \n",
    "    student = Student(\"Alice\")\n",
    "    professor = Professor(\"Dr. Smith\")\n",
    "    \n",
    "    student.borrow_book(book1)  # Alice borrows The Alchemist\n",
    "    professor.borrow_book(book2)  # Dr. Smith borrows Digital Fortress\n",
    "    student.return_book(book1)  # Alice returns The Alchemist\n"
   ]
  },
  {
   "cell_type": "markdown",
   "id": "599e126e",
   "metadata": {},
   "source": [
    "# QUESTIONS"
   ]
  },
  {
   "cell_type": "markdown",
   "id": "d143eed1",
   "metadata": {},
   "source": [
    "## Encapsulation"
   ]
  },
  {
   "cell_type": "markdown",
   "id": "3e2cc89b",
   "metadata": {},
   "source": [
    "### 1 a) Why is __copies defined as a private attribute in PhysicalBook?\n",
    "\n",
    "Encapsulation is used to restrict direct access to certain attributes of a class to ensure data security, maintain consistency, and prevent unauthorized modifications.\n",
    "\n",
    "In the PhysicalBook class, __copies represents the number of available copies of a book. Marking it as a private attribute (__copies) ensures:\n",
    "\n",
    "Data Integrity – Prevents external code from accidentally or maliciously modifying the number of copies.\n",
    "\n",
    "Controlled Access – The number of copies should be modified only through well-defined methods (e.g., borrowing or returning a book) to maintain consistency.\n",
    "\n",
    "Security – Prevents unauthorized users from directly altering the number of copies, which could lead to discrepancies in the system."
   ]
  },
  {
   "cell_type": "markdown",
   "id": "5ff6d0ff",
   "metadata": {},
   "source": [
    "### 1 b) How can we modify __copies safely without directly accessing it?\n",
    "\n",
    "We can provide getter (get_copies()) and setter (set_copies()) methods or a borrow_book() method that decrements the count only if copies are available. This ensures controlled access to __copies."
   ]
  },
  {
   "cell_type": "markdown",
   "id": "ffe779cf",
   "metadata": {},
   "source": [
    "## Inheritance"
   ]
  },
  {
   "cell_type": "markdown",
   "id": "8011509d",
   "metadata": {},
   "source": [
    "### 2 a) What is the purpose of Student and Professor classes inheriting from User?\n",
    "\n",
    "This allows code reuse and specialization. Both students and professors are users but have different borrowing limits. Instead of duplicating attributes (name, user_type), we define them in User and extend functionality in subclasses."
   ]
  },
  {
   "cell_type": "markdown",
   "id": "bf757dfa",
   "metadata": {},
   "source": [
    "### 2 b) If a new type of user (e.g., Librarian) needs to be added, how can it be done?\n",
    "\n",
    "Simply create a Librarian class inheriting from User, define its unique attributes (e.g., permissions to add/remove books), and implement any additional methods as needed.\n",
    "\n"
   ]
  },
  {
   "cell_type": "markdown",
   "id": "b91f0a53",
   "metadata": {},
   "source": [
    "## Polymorphism"
   ]
  },
  {
   "cell_type": "markdown",
   "id": "7316e367",
   "metadata": {},
   "source": [
    "### 3 a) How does implementing check_availability() in PhysicalBook and EBook demonstrate polymorphism?\n",
    "Both classes override check_availability() differently:\n",
    "\n",
    "PhysicalBook checks if copies are available.\n",
    "EBook always returns available (since digital copies are unlimited).\n",
    "This demonstrates method overriding, a key aspect of polymorphism."
   ]
  },
  {
   "cell_type": "markdown",
   "id": "bb5abf61",
   "metadata": {},
   "source": [
    "### 3 b) Modify the program so that EBook also has a borrow() method but does not reduce copies when borrowed.\n",
    "\n",
    "We define a borrow() method in EBook, but unlike PhysicalBook, it doesn’t decrement any count. Instead, it just logs that the book was borrowed."
   ]
  },
  {
   "cell_type": "markdown",
   "id": "3bfa155d",
   "metadata": {},
   "source": [
    "## Abstraction"
   ]
  },
  {
   "cell_type": "markdown",
   "id": "0e972817",
   "metadata": {},
   "source": [
    "### 4 a) Why do we declare Book as an abstract class instead of using it directly?\n",
    "\n",
    "Book represents a general concept, but we don't want to create instances of it. We enforce a structure that all books must follow while ensuring that only specific book types (PhysicalBook, EBook) can be instantiated."
   ]
  },
  {
   "cell_type": "markdown",
   "id": "94515d6b",
   "metadata": {},
   "source": [
    "### 4 b) What will happen if we try to create an object of Book?\n",
    "\n",
    "Since Book is an abstract class, attempting to instantiate it will raise a TypeError, preventing improper usage."
   ]
  },
  {
   "cell_type": "markdown",
   "id": "2c9ede74",
   "metadata": {},
   "source": [
    "## Real World Application"
   ]
  },
  {
   "cell_type": "markdown",
   "id": "39d64e08",
   "metadata": {},
   "source": [
    "### 5 a) How would you extend this program to track borrowed books per user?\n",
    "\n",
    "Add a borrowed_books list to User.\n",
    "\n",
    "When a user borrows a book, add it to their list.\n",
    "\n",
    "Provide a method to view borrowed books."
   ]
  },
  {
   "cell_type": "markdown",
   "id": "0ab67aa5",
   "metadata": {},
   "source": [
    "### 5 b) If books have different borrowing durations (e.g., E-books for 14 days, Physical books for 30 days), how would you implement that?\n",
    "\n",
    "Add a borrow_duration attribute to Book.\n",
    "\n",
    "Assign different values (14 days for EBook, 30 days for PhysicalBook).\n",
    "\n",
    "Store the borrow date and calculate due date dynamically."
   ]
  },
  {
   "cell_type": "markdown",
   "id": "e3a814b8",
   "metadata": {},
   "source": [
    "## Bonus Task"
   ]
  },
  {
   "cell_type": "markdown",
   "id": "0c53b037",
   "metadata": {},
   "source": [
    "### Implement a Librarian class who can add new books to the system.\n",
    "\n",
    "Librarian extends User and has an add_book() method to insert books into the catalog.\n",
    "\n",
    "### Implement a BookCatalog that stores multiple books and allows users to search for a book by title or author.\n",
    "\n",
    "A dictionary or list can store book objects.\n",
    "\n",
    "A search function filters books based on title or author."
   ]
  },
  {
   "cell_type": "code",
   "execution_count": null,
   "id": "3d42d82a",
   "metadata": {},
   "outputs": [],
   "source": []
  }
 ],
 "metadata": {
  "kernelspec": {
   "display_name": "Python 3 (ipykernel)",
   "language": "python",
   "name": "python3"
  },
  "language_info": {
   "codemirror_mode": {
    "name": "ipython",
    "version": 3
   },
   "file_extension": ".py",
   "mimetype": "text/x-python",
   "name": "python",
   "nbconvert_exporter": "python",
   "pygments_lexer": "ipython3",
   "version": "3.9.7"
  }
 },
 "nbformat": 4,
 "nbformat_minor": 5
}
