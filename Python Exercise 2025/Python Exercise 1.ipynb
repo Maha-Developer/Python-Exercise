{
  "nbformat": 4,
  "nbformat_minor": 0,
  "metadata": {
    "colab": {
      "provenance": []
    },
    "kernelspec": {
      "name": "python3",
      "display_name": "Python 3"
    },
    "language_info": {
      "name": "python"
    }
  },
  "cells": [
    {
      "cell_type": "code",
      "execution_count": 1,
      "metadata": {
        "colab": {
          "base_uri": "https://localhost:8080/"
        },
        "id": "P7fQzcHkedv6",
        "outputId": "8fd38958-fb14-4574-cff3-77e17c3292ea"
      },
      "outputs": [
        {
          "output_type": "stream",
          "name": "stdout",
          "text": [
            "Name: Mahalakshmi <class 'str'>\n",
            "Age: 26 <class 'int'>\n",
            "Height: 1.6 <class 'float'>\n"
          ]
        }
      ],
      "source": [
        "'''Question 1:\n",
        "Write a Python program that defines three types of variables:\n",
        "•\tA string variable to store your name.\n",
        "•\tAn integer variable to store your age.\n",
        "•\tA float variable to store your height in meters.\n",
        "Print these variables along with their types using the type() function.'''\n",
        "\n",
        "Name = \"Mahalakshmi\"\n",
        "Age = 26\n",
        "Height = 1.6\n",
        "\n",
        "print(\"Name:\",Name,type(Name))\n",
        "print(\"Age:\",Age,type(Age))\n",
        "print(\"Height:\",Height,type(Height))"
      ]
    },
    {
      "cell_type": "code",
      "source": [
        "'''Question 2. Lists\n",
        "Question:\n",
        "Create a list of five fruits ([\"apple\", \"banana\", \"cherry\", \"date\", \"elderberry\"]):\n",
        "a) Print the first and last fruit from the list.\n",
        "b) Add a new fruit to the end of the list.\n",
        "c) Remove the second fruit from the list.\n",
        "d) Sort the list in alphabetical order and print it'''\n",
        "\n",
        "#Create a list of five fruits ([\"apple\", \"banana\", \"cherry\", \"date\", \"elderberry\"]):\n",
        "fruits = [\"apple\", \"banana\", \"cherry\", \"date\", \"elderberry\"]\n",
        "#Print the first and last fruit from the list.\n",
        "print(\"first fruit: \",fruits[0])\n",
        "print(\"Last fruit:\",fruits[-1])\n",
        "#Add a new fruit to the end of the list.\n",
        "fruits.append(\"melon\")\n",
        "print(\"After adding a new fruit:\",fruits)\n",
        "#Remove the second fruit from the list.\n",
        "fruits.pop(1)\n",
        "print(\"After removing a second fruit:\",fruits)\n",
        "#Sort the list in alphabetical order and print it\n",
        "fruits.sort()\n",
        "print(\"After sorting:\",fruits)"
      ],
      "metadata": {
        "colab": {
          "base_uri": "https://localhost:8080/"
        },
        "id": "8GlhCjnbgg_i",
        "outputId": "d455989a-c5a8-44c1-bcb9-5137a2b59e90"
      },
      "execution_count": 5,
      "outputs": [
        {
          "output_type": "stream",
          "name": "stdout",
          "text": [
            "first fruit:  apple\n",
            "Last fruit: elderberry\n",
            "After adding a new fruit: ['apple', 'banana', 'cherry', 'date', 'elderberry', 'melon']\n",
            "After removing a second fruit: ['apple', 'cherry', 'date', 'elderberry', 'melon']\n",
            "After sorting: ['apple', 'cherry', 'date', 'elderberry', 'melon']\n"
          ]
        }
      ]
    },
    {
      "cell_type": "code",
      "source": [
        "'''3. Tuples\n",
        "Question:\n",
        "Create a tuple to store the names of three programming languages (\"Python\", \"Java\", \"C++\"):\n",
        "a) Access the second language in the tuple.\n",
        "b) Try to replace the second language with \"JavaScript\". What happens?\n",
        "c) Convert the tuple to a list, make the modification, and convert it back to a tuple.'''\n",
        "#Create a tuple to store the names of three programming languages (\"Python\", \"Java\", \"C++\")\n",
        "languages = (\"Python\", \"Java\", \"C++\")\n",
        "#Access the second language in the tuple.\n",
        "print(languages[1])\n",
        "#Try to replace the second language with \"JavaScript\". What happens?\n",
        "languages[1] = (\"Javascript\")\n",
        "print(languages)"
      ],
      "metadata": {
        "colab": {
          "base_uri": "https://localhost:8080/",
          "height": 349
        },
        "id": "No0LiZWfiBDQ",
        "outputId": "1d8c50b2-b2bf-46c2-d214-3778e1237a38"
      },
      "execution_count": null,
      "outputs": [
        {
          "output_type": "stream",
          "name": "stdout",
          "text": [
            "Java\n"
          ]
        },
        {
          "output_type": "error",
          "ename": "TypeError",
          "evalue": "'tuple' object does not support item assignment",
          "traceback": [
            "\u001b[0;31m---------------------------------------------------------------------------\u001b[0m",
            "\u001b[0;31mTypeError\u001b[0m                                 Traceback (most recent call last)",
            "\u001b[0;32m<ipython-input-21-7f7bd2f617f6>\u001b[0m in \u001b[0;36m<cell line: 0>\u001b[0;34m()\u001b[0m\n\u001b[1;32m      1\u001b[0m \u001b[0mlanguages\u001b[0m \u001b[0;34m=\u001b[0m \u001b[0;34m(\u001b[0m\u001b[0;34m\"Python\"\u001b[0m\u001b[0;34m,\u001b[0m \u001b[0;34m\"Java\"\u001b[0m\u001b[0;34m,\u001b[0m \u001b[0;34m\"C++\"\u001b[0m\u001b[0;34m)\u001b[0m\u001b[0;34m\u001b[0m\u001b[0;34m\u001b[0m\u001b[0m\n\u001b[1;32m      2\u001b[0m \u001b[0mprint\u001b[0m\u001b[0;34m(\u001b[0m\u001b[0mlanguages\u001b[0m\u001b[0;34m[\u001b[0m\u001b[0;36m1\u001b[0m\u001b[0;34m]\u001b[0m\u001b[0;34m)\u001b[0m\u001b[0;34m\u001b[0m\u001b[0;34m\u001b[0m\u001b[0m\n\u001b[0;32m----> 3\u001b[0;31m \u001b[0mlanguages\u001b[0m\u001b[0;34m[\u001b[0m\u001b[0;36m1\u001b[0m\u001b[0;34m]\u001b[0m \u001b[0;34m=\u001b[0m \u001b[0;34m(\u001b[0m\u001b[0;34m\"Javascript\"\u001b[0m\u001b[0;34m)\u001b[0m\u001b[0;34m\u001b[0m\u001b[0;34m\u001b[0m\u001b[0m\n\u001b[0m\u001b[1;32m      4\u001b[0m \u001b[0mprint\u001b[0m\u001b[0;34m(\u001b[0m\u001b[0mlanguages\u001b[0m\u001b[0;34m)\u001b[0m\u001b[0;34m\u001b[0m\u001b[0;34m\u001b[0m\u001b[0m\n",
            "\u001b[0;31mTypeError\u001b[0m: 'tuple' object does not support item assignment"
          ]
        }
      ]
    },
    {
      "cell_type": "markdown",
      "source": [
        "When replacing a item in a tuple it says \"does not support\" as its immutable"
      ],
      "metadata": {
        "id": "YVtNgz87Eqer"
      }
    },
    {
      "cell_type": "code",
      "source": [
        "#Convert the tuple to a list, make the modification, and convert it back to a tuple\n",
        "languages_list = list(languages) # Convert tuple to list\n",
        "languages_list[1] = \"JavaScript\" # Modify the second element\n",
        "languages = tuple(languages_list)\n",
        "print(languages)"
      ],
      "metadata": {
        "colab": {
          "base_uri": "https://localhost:8080/"
        },
        "id": "lRxKQ4EljC4A",
        "outputId": "ee6183cd-751c-4d35-8048-ed5ff18c76fb"
      },
      "execution_count": null,
      "outputs": [
        {
          "output_type": "stream",
          "name": "stdout",
          "text": [
            "('Python', 'JavaScript', 'C++')\n"
          ]
        }
      ]
    },
    {
      "cell_type": "code",
      "source": [
        "'''4. Data Dictionary - Basics\n",
        "Question:\n",
        "Create a dictionary with the following student details:\n",
        "•\tname: \"John\"\n",
        "•\tage: 18\n",
        "•\tgrade: \"A\"\n",
        "a) Access and print the value of grade.\n",
        "b) Add a new key-value pair for hobby with the value \"reading\".\n",
        "c) Delete the age key from the dictionary.'''\n",
        "\n",
        "student = {\n",
        "          \"Name\" : \"John\",\n",
        "          \"Age\" : 18,\n",
        "          \"Grade\" : \"A\"\n",
        "}\n",
        "#Access and print the value of grade.\n",
        "print(student[\"Grade\"])\n",
        "#Add a new key-value pair for hobby with the value \"reading\"\n",
        "student[\"Hobby\"] = \"Reading\"\n",
        "print(\"After adding a new dict\",student)\n",
        "#Delete the age key from the dictionary\n",
        "del student [\"Age\"]\n",
        "print(\"After Deleting:\",student)"
      ],
      "metadata": {
        "colab": {
          "base_uri": "https://localhost:8080/"
        },
        "id": "b8jOiIIRjOqm",
        "outputId": "9b61f13d-dac5-4db4-e837-e4bad41b85f6"
      },
      "execution_count": 6,
      "outputs": [
        {
          "output_type": "stream",
          "name": "stdout",
          "text": [
            "A\n",
            "After adding a new dict {'Name': 'John', 'Age': 18, 'Grade': 'A', 'Hobby': 'Reading'}\n",
            "After Deleting: {'Name': 'John', 'Grade': 'A', 'Hobby': 'Reading'}\n"
          ]
        }
      ]
    },
    {
      "cell_type": "code",
      "source": [
        "'''5. Data Dictionary - Operations\n",
        "Question:\n",
        "You are given the following dictionary:\n",
        "marks = {\"Math\": 85, \"Science\": 90, \"English\": 78}\n",
        "a) Find the average marks across all subjects.\n",
        "b) Update the marks for Math to 88.\n",
        "c) Check if the key \"History\" exists in the dictionary'''\n",
        "\n",
        "marks = {\"Math\": 85, \"Science\": 90, \"English\": 78}\n",
        "#Find the average marks across all subjects.\n",
        "average = sum(marks.values())/len(marks)\n",
        "print(average)\n",
        "#Update the marks for Math to 88.\n",
        "marks[\"Math\"] =88\n",
        "print(marks)\n",
        "#Check if the key \"History\" exists in the dictionary\n",
        "print (\"History\" in marks)"
      ],
      "metadata": {
        "colab": {
          "base_uri": "https://localhost:8080/"
        },
        "id": "IGdoNSAMkYzM",
        "outputId": "c9cdd312-8bec-4a62-dde3-c6786bbef8d4"
      },
      "execution_count": 7,
      "outputs": [
        {
          "output_type": "stream",
          "name": "stdout",
          "text": [
            "84.33333333333333\n",
            "{'Math': 88, 'Science': 90, 'English': 78}\n",
            "False\n"
          ]
        }
      ]
    },
    {
      "cell_type": "code",
      "source": [
        "'''. Functions - Basics\n",
        "Question:\n",
        "Write a Python function named square that takes an integer as input and returns its square.\n",
        "•\tCall the function with the value 7 and print the result.'''\n",
        "\n",
        "def Square(x):\n",
        "    result = x**2\n",
        "    return result\n",
        "#\tCall the function with the value 7 and print the result\n",
        "answer = Square(7)\n",
        "print(answer)"
      ],
      "metadata": {
        "colab": {
          "base_uri": "https://localhost:8080/"
        },
        "id": "svo-sAM3lhb-",
        "outputId": "fbc49a2a-0b7d-4ef3-cf79-e0aa93680824"
      },
      "execution_count": null,
      "outputs": [
        {
          "output_type": "stream",
          "name": "stdout",
          "text": [
            "49\n"
          ]
        }
      ]
    },
    {
      "cell_type": "code",
      "source": [
        "'''7. Functions - Default Arguments\n",
        "Question:\n",
        "Write a Python function named greet that takes two parameters:\n",
        "•\tname (a string)\n",
        "•\tmessage (a string with a default value of \"Welcome!\")\n",
        "Call the function twice:\n",
        "1.\tOnce by providing both name and message.\n",
        "2.\tOnce by providing only name'''\n",
        "\n",
        "# Define the greet function\n",
        "def greet(name, message=\"Welcome!\"):\n",
        "    print(f\"{message} {name}\")\n",
        "\n",
        "# Call the function by providing both name and message\n",
        "greet(\"Maha\", \"Hello!\")\n",
        "\n",
        "# Call the function by providing only the name\n",
        "greet(\"Maha\")"
      ],
      "metadata": {
        "colab": {
          "base_uri": "https://localhost:8080/"
        },
        "id": "bxXSXPFgnSDH",
        "outputId": "608a80f7-40f8-42c6-d58f-40c0886e76c0"
      },
      "execution_count": null,
      "outputs": [
        {
          "output_type": "stream",
          "name": "stdout",
          "text": [
            "Hello! Maha\n",
            "Welcome! Maha\n"
          ]
        }
      ]
    },
    {
      "cell_type": "code",
      "source": [
        "'''8. Functions - Positional and Keyword Arguments\n",
        "Question:\n",
        "Write a Python function named student_info that accepts the following parameters:\n",
        "•\tname (string)\n",
        "•\tage (integer)\n",
        "•\tgrade (string, default value is \"A\")\n",
        "Call the function with:\n",
        "1.\tPositional arguments only.\n",
        "2.\tKeyword arguments only.\n",
        "Print the result in each case.'''\n",
        "\n",
        "# Define the student_info function\n",
        "def student_info(name, age, grade=\"A\"):\n",
        "    return f\"Name: {name}, Age: {age}, Grade: {grade}\"\n",
        "\n",
        "# Call the function with positional arguments only\n",
        "result_positional = student_info(\"Alice\", 20)\n",
        "print(\"Using positional arguments:\", result_positional)\n",
        "\n",
        "# Call the function with keyword arguments only\n",
        "result_keyword = student_info(name=\"Bob\", age=22, grade=\"B\")\n",
        "print(\"Using keyword arguments:\", result_keyword)"
      ],
      "metadata": {
        "colab": {
          "base_uri": "https://localhost:8080/"
        },
        "id": "nEwuc0finbLD",
        "outputId": "44a7f009-6c15-4fb2-9c6f-9c580ac67753"
      },
      "execution_count": null,
      "outputs": [
        {
          "output_type": "stream",
          "name": "stdout",
          "text": [
            "Using positional arguments: Name: Alice, Age: 20, Grade: A\n",
            "Using keyword arguments: Name: Bob, Age: 22, Grade: B\n"
          ]
        }
      ]
    },
    {
      "cell_type": "code",
      "source": [
        "'''9. Lists and Functions\n",
        "Question:\n",
        "Write a Python program with the following requirements:\n",
        "a) Create a list of numbers: [10, 20, 30, 40, 50].\n",
        "b) Define a function named double_values that takes a list as input and returns a new list with each value doubled.\n",
        "c) Pass the list to the function and print the returned list.'''\n",
        "\n",
        "# a) Create a list of numbers\n",
        "numbers = [10, 20, 30, 40, 50]\n",
        "\n",
        "# b) Define the double_values function\n",
        "def double_values(num_list):\n",
        "    return [num * 2 for num in num_list]\n",
        "\n",
        "# c) Pass the list to the function and print the returned list\n",
        "doubled_numbers = double_values(numbers)\n",
        "print(\"Doubled values:\", doubled_numbers)"
      ],
      "metadata": {
        "colab": {
          "base_uri": "https://localhost:8080/"
        },
        "id": "Bm5SwSexn2Na",
        "outputId": "1c06bd38-04b7-4739-9328-bf45706f74e4"
      },
      "execution_count": null,
      "outputs": [
        {
          "output_type": "stream",
          "name": "stdout",
          "text": [
            "Doubled values: [20, 40, 60, 80, 100]\n"
          ]
        }
      ]
    },
    {
      "cell_type": "code",
      "source": [
        "'''10. Combining Data Dictionary and Functions\n",
        "Question:\n",
        "Create a dictionary named students to store the names and grades of three students:\n",
        "students = {\"Alice\": 85, \"Bob\": 78, \"Eve\": 92}\n",
        "a) Write a function named add_student that accepts a dictionary, a student name, and a grade, then adds the student to the dictionary.\n",
        "b) Write another function named average_grade that calculates the average grade of all students in the dictionary.\n",
        "Call the functions to:\n",
        "1.\tAdd a new student (\"David\": 88).\n",
        "2.\tCalculate and print the average grade.'''\n",
        "\n",
        "# a) Create the dictionary with students' names and grades\n",
        "students = {\"Alice\": 85, \"Bob\": 78, \"Eve\": 92}\n",
        "\n",
        "# Define the add_student function\n",
        "def add_student(student_dict, name, grade):\n",
        "    student_dict[name] = grade\n",
        "\n",
        "# Define the average_grade function\n",
        "def average_grade(student_dict):\n",
        "    return sum(student_dict.values()) / len(student_dict)\n",
        "\n",
        "# Call the functions\n",
        "# Add a new student (\"David\": 88)\n",
        "add_student(students, \"David\", 88)\n",
        "\n",
        "# Calculate and print the average grade\n",
        "avg_grade = average_grade(students)\n",
        "print(\"Average grade:\", avg_grade)"
      ],
      "metadata": {
        "colab": {
          "base_uri": "https://localhost:8080/"
        },
        "id": "i4I9-87loMoY",
        "outputId": "349be270-622f-4228-a966-46b40318a719"
      },
      "execution_count": null,
      "outputs": [
        {
          "output_type": "stream",
          "name": "stdout",
          "text": [
            "Average grade: 85.75\n"
          ]
        }
      ]
    }
  ]
}