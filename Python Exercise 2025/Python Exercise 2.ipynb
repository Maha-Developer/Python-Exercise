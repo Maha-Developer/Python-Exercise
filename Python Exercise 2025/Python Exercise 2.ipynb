{
  "nbformat": 4,
  "nbformat_minor": 0,
  "metadata": {
    "colab": {
      "provenance": []
    },
    "kernelspec": {
      "name": "python3",
      "display_name": "Python 3"
    },
    "language_info": {
      "name": "python"
    }
  },
  "cells": [
    {
      "cell_type": "code",
      "source": [
        "#Write a Python program that swaps two numbers without using a third variable\n",
        "a= 13\n",
        "b = 15\n",
        "print(\"Before swapping:\",a,b)\n",
        "\n",
        "a,b = b,a\n",
        "\n",
        "print(\"After Swapping: \",a,b)"
      ],
      "metadata": {
        "colab": {
          "base_uri": "https://localhost:8080/"
        },
        "id": "WImUn5MGoL2-",
        "outputId": "b99083dc-bcb8-426f-f3c0-6435fe131bca"
      },
      "execution_count": 3,
      "outputs": [
        {
          "output_type": "stream",
          "name": "stdout",
          "text": [
            "Before swapping: 13 15\n",
            "After Swapping:  15 13\n"
          ]
        }
      ]
    },
    {
      "cell_type": "code",
      "source": [
        "#You have a nested list:\n",
        "\n",
        "data = [[1, 2, 3], [4, 5, 6], [7, 8, 9]]\n",
        "\n",
        "#a) Extract and print the middle element from the nested list.\n",
        "print(\"Middle Element:\",data[1])\n",
        "print(\"Middle item:\",data[1][1])\n",
        "\n",
        "#Flatten the list into a single list [1, 2, 3, 4, 5, 6, 7, 8, 9] without using loops\n",
        "\n",
        "#using list comprehension\n",
        "flat_list = [item for i in data for item in i]\n",
        "print(\"flattened list:\",flat_list)\n"
      ],
      "metadata": {
        "colab": {
          "base_uri": "https://localhost:8080/"
        },
        "id": "ZndOrjxboszs",
        "outputId": "33425022-facf-4d30-e325-599c1cfc9ffc"
      },
      "execution_count": 11,
      "outputs": [
        {
          "output_type": "stream",
          "name": "stdout",
          "text": [
            "Middle Element: [4, 5, 6]\n",
            "Middle item: 5\n",
            "flattened list: [1, 2, 3, 4, 5, 6, 7, 8, 9]\n"
          ]
        }
      ]
    },
    {
      "cell_type": "code",
      "source": [
        "#Question 3\n",
        "#Given:\n",
        "values = (100, 200, 300)\n",
        "print(values)\n",
        "#a) Unpack this tuple into three variables and print them.\n",
        "\n",
        "a,b,c = values\n",
        "print(\"a:\",a)\n",
        "print(\"b:\",b)\n",
        "print(\"c:\",c)\n",
        "#Swap the values without using a temporary variable.\n",
        "a,b,c = b,c,a\n",
        "print(\"After swapping:\",a,b,c)"
      ],
      "metadata": {
        "colab": {
          "base_uri": "https://localhost:8080/"
        },
        "id": "kE7DrMpaqtj4",
        "outputId": "4dcac59c-ad8d-421b-a54e-90f424fbc4a6"
      },
      "execution_count": 18,
      "outputs": [
        {
          "output_type": "stream",
          "name": "stdout",
          "text": [
            "(100, 200, 300)\n",
            "a: 100\n",
            "b: 200\n",
            "c: 300\n",
            "After swapping: 200 300 100\n"
          ]
        }
      ]
    },
    {
      "cell_type": "code",
      "source": [
        "'''Create a dictionary where:\n",
        "•\tKeys are tuples representing (x, y) coordinates.\n",
        "•\tValues are the sum of x and y.\n",
        "Example:\n",
        "{ (1,2): 3, (3,4): 7, (5,6): 11 }\n",
        "Write a function to retrieve the sum for a given coordinate'''\n",
        "\n",
        "coordinates = {\n",
        "    (3,5): 8,\n",
        "    (5, 4): 9,\n",
        "    (7, 6): 13\n",
        "}\n",
        "def get_sum(coord_dict,x,y):\n",
        "    return coord_dict.get((x,y))\n",
        "\n",
        "print(get_sum(coordinates,3,5))\n"
      ],
      "metadata": {
        "colab": {
          "base_uri": "https://localhost:8080/"
        },
        "id": "9dNlr1W0sUUM",
        "outputId": "1c18e52c-9aad-435a-9c83-1f599672c8bb"
      },
      "execution_count": 20,
      "outputs": [
        {
          "output_type": "stream",
          "name": "stdout",
          "text": [
            "8\n"
          ]
        }
      ]
    },
    {
      "cell_type": "code",
      "source": [
        "'''Write a function outer_function(a, b) that:\n",
        "•\tContains an inner function to calculate a² + b².\n",
        "•\tReturns the result.\n",
        "Call outer_function(3, 4) and print the result.\n",
        "'''\n",
        "def outer_function(a,b):\n",
        "    def inner_function():\n",
        "      return a**2 + b**2\n",
        "    return inner_function()\n",
        "\n",
        "result = outer_function(3,4)\n",
        "print(\"Result:\",result)"
      ],
      "metadata": {
        "colab": {
          "base_uri": "https://localhost:8080/"
        },
        "id": "0edNkuMCuw-9",
        "outputId": "a35708cc-da5f-48cf-e187-bcbd755a8e1f"
      },
      "execution_count": 21,
      "outputs": [
        {
          "output_type": "stream",
          "name": "stdout",
          "text": [
            "Result: 25\n"
          ]
        }
      ]
    },
    {
      "cell_type": "code",
      "source": [
        "'''You are given a list:\n",
        "numbers = [1, 2, 3, 4, 5]\n",
        "Use a lambda function and map() to generate a list where each number is cubed.\n",
        "'''\n",
        "numbers = [1,2,3,4,5]\n",
        "cubed_numbers = list(map(lambda x: x**3,numbers))\n",
        "print(\"Cubed Numbers:\",cubed_numbers)"
      ],
      "metadata": {
        "colab": {
          "base_uri": "https://localhost:8080/"
        },
        "id": "W44VseikvtgY",
        "outputId": "83ce8b51-d0f4-4d4f-e8b2-ea8b20b627f4"
      },
      "execution_count": 22,
      "outputs": [
        {
          "output_type": "stream",
          "name": "stdout",
          "text": [
            "Cubed Numbers: [1, 8, 27, 64, 125]\n"
          ]
        }
      ]
    },
    {
      "cell_type": "code",
      "source": [
        "'''Write a recursive function to calculate the sum of digits of a given number.\n",
        "Example:\n",
        "Input: 1234\n",
        "Output: 10  (1+2+3+4)\n",
        "'''\n",
        "def sum_of_digits(n):\n",
        "    if n == 0:\n",
        "        return 0\n",
        "    return (n % 10) + sum_of_digits(n // 10)\n",
        "\n",
        "# Example Usage:\n",
        "num = 1234\n",
        "print(sum_of_digits(num))"
      ],
      "metadata": {
        "colab": {
          "base_uri": "https://localhost:8080/"
        },
        "id": "u8fb9tazwNK2",
        "outputId": "df1fc44b-936b-4677-85cb-87fecca04289"
      },
      "execution_count": 23,
      "outputs": [
        {
          "output_type": "stream",
          "name": "stdout",
          "text": [
            "10\n"
          ]
        }
      ]
    },
    {
      "cell_type": "code",
      "source": [
        "'''Generate a list of all numbers between 1 and 100 that:\n",
        "•\tAre divisible by 5\n",
        "•\tBut not by 3\n",
        "Use list comprehension.\n",
        "'''\n",
        "numbers = [num for num in range(1, 101) if num % 5 == 0 and num % 3 != 0]\n",
        "\n",
        "print(numbers)\n"
      ],
      "metadata": {
        "colab": {
          "base_uri": "https://localhost:8080/"
        },
        "id": "e7otaqwNz0SZ",
        "outputId": "c788e637-9431-41fc-c489-6f5292d2881c"
      },
      "execution_count": 24,
      "outputs": [
        {
          "output_type": "stream",
          "name": "stdout",
          "text": [
            "[5, 10, 20, 25, 35, 40, 50, 55, 65, 70, 80, 85, 95, 100]\n"
          ]
        }
      ]
    },
    {
      "cell_type": "code",
      "source": [
        "'''Given:\n",
        "scores = {\"Alice\": 90, \"Bob\": 85, \"Eve\": 92}\n",
        "Sort this dictionary by values in descending order and print the result.\n",
        "'''\n",
        "scores = {\"Alice\": 90, \"Bob\": 85, \"Eve\": 92}\n",
        "\n",
        "# Sorting by values in descending order\n",
        "sorted_scores = dict(sorted(scores.items(), key=lambda item: item[1], reverse=True))\n",
        "\n",
        "print(sorted_scores)\n"
      ],
      "metadata": {
        "colab": {
          "base_uri": "https://localhost:8080/"
        },
        "id": "hVISCipD0F8q",
        "outputId": "8deb7e11-864d-4a7e-f461-e6bba0f649d9"
      },
      "execution_count": 25,
      "outputs": [
        {
          "output_type": "stream",
          "name": "stdout",
          "text": [
            "{'Eve': 92, 'Alice': 90, 'Bob': 85}\n"
          ]
        }
      ]
    },
    {
      "cell_type": "code",
      "source": [
        "'''Write a Python function that takes a string as input and returns:\n",
        "•\tA set of unique characters in the string.\n",
        "•\tThe number of unique characters.\n",
        "Example:\n",
        "Input: \"hello\"\n",
        "Output: {'h', 'e', 'l', 'o'}, 4\n",
        "'''\n",
        "def unique_characters(s):\n",
        "    unique_chars = set(s)\n",
        "    return unique_chars, len(unique_chars)\n",
        "\n",
        "# Example Usage:\n",
        "#result = unique_chars_info(\"hello\")\n",
        "#print(result)\n",
        "\n",
        "input_string = \"hello\"\n",
        "unique_set, unique_count = unique_characters(input_string)\n",
        "\n",
        "print(\"Unique Characters:\", unique_set)\n",
        "print(\"Number of Unique Characters:\", unique_count)"
      ],
      "metadata": {
        "colab": {
          "base_uri": "https://localhost:8080/"
        },
        "id": "gUyr9Hnx0XkZ",
        "outputId": "af9d871b-94bb-4e0c-8a27-e7ec8845d9c6"
      },
      "execution_count": 30,
      "outputs": [
        {
          "output_type": "stream",
          "name": "stdout",
          "text": [
            "Unique Characters: {'e', 'o', 'l', 'h'}\n",
            "Number of Unique Characters: 4\n"
          ]
        }
      ]
    },
    {
      "cell_type": "code",
      "source": [
        "'''Given two tuples:\n",
        "t1 = (1, 2, 3, 4, 5)\n",
        "t2 = (4, 5, 6, 7, 8)\n",
        "Find and print the common elements.\n",
        "'''\n",
        "t1 = (1, 2, 3, 4, 5)\n",
        "t2 = (4, 5, 6, 7, 8)\n",
        "\n",
        "# Finding common elements using set intersection\n",
        "common_elements = set(t1) & set(t2)\n",
        "\n",
        "print(common_elements)\n"
      ],
      "metadata": {
        "colab": {
          "base_uri": "https://localhost:8080/"
        },
        "id": "cEAL5TSt209x",
        "outputId": "15aee096-da17-41d6-eb53-e65a3b7268d8"
      },
      "execution_count": 31,
      "outputs": [
        {
          "output_type": "stream",
          "name": "stdout",
          "text": [
            "{4, 5}\n"
          ]
        }
      ]
    },
    {
      "cell_type": "code",
      "source": [
        "'''Given a dictionary:\n",
        "data = {\"A\": 1, \"B\": 2, \"C\": 3}\n",
        "Write a program to swap keys and values:\n",
        "Output: {1: \"A\", 2: \"B\", 3: \"C\"}\n",
        "'''\n",
        "\n",
        "data = {\"A\": 1, \"B\": 2, \"C\": 3}\n",
        "\n",
        "# Swapping keys and values\n",
        "swapped_data = {v: k for k, v in data.items()}\n",
        "\n",
        "print(swapped_data)\n",
        "\n"
      ],
      "metadata": {
        "colab": {
          "base_uri": "https://localhost:8080/"
        },
        "id": "joHKEhIG3zUl",
        "outputId": "268e1841-b971-4db7-d355-f394eae87ed2"
      },
      "execution_count": 32,
      "outputs": [
        {
          "output_type": "stream",
          "name": "stdout",
          "text": [
            "{1: 'A', 2: 'B', 3: 'C'}\n"
          ]
        }
      ]
    },
    {
      "cell_type": "code",
      "source": [
        "'''Write a function that takes two numbers as input and returns:\n",
        "1.\tTheir sum\n",
        "2.\tTheir difference\n",
        "3.\tTheir product\n",
        "4.\tTheir quotient\n",
        "Print all four results.\n",
        "'''\n",
        "def perform_operations(num1, num2):\n",
        "    sum_result = num1 + num2\n",
        "    diff_result = num1 - num2\n",
        "    prod_result = num1 * num2\n",
        "    # Handling division by zero\n",
        "    if num2 != 0:\n",
        "        quot_result = num1 / num2\n",
        "    else:\n",
        "        quot_result = \"Undefined (division by zero)\"\n",
        "\n",
        "    return sum_result, diff_result, prod_result, quot_result\n",
        "\n",
        "# Example Usage:\n",
        "num1 = 10\n",
        "num2 = 5\n",
        "sum_result, diff_result, prod_result, quot_result = perform_operations(num1, num2)\n",
        "\n",
        "print(\"Sum:\", sum_result)\n",
        "print(\"Difference:\", diff_result)\n",
        "print(\"Product:\", prod_result)\n",
        "print(\"Quotient:\", quot_result)\n"
      ],
      "metadata": {
        "colab": {
          "base_uri": "https://localhost:8080/"
        },
        "id": "9B6K4h0U4WZn",
        "outputId": "6da7809e-fb01-4f49-fb0a-9b416a9b85ad"
      },
      "execution_count": 33,
      "outputs": [
        {
          "output_type": "stream",
          "name": "stdout",
          "text": [
            "Sum: 15\n",
            "Difference: 5\n",
            "Product: 50\n",
            "Quotient: 2.0\n"
          ]
        }
      ]
    },
    {
      "cell_type": "code",
      "source": [
        "'''Write a function to find the second largest number in a given list without using sort().\n",
        "Example:\n",
        "Input: [10, 20, 4, 45, 99]\n",
        "Output: 45\n",
        "'''\n",
        "\n",
        "\n",
        "def second_largest(numbers):\n",
        "    # Initialize the two largest numbers\n",
        "    first, second = float('-inf'), float('-inf')\n",
        "\n",
        "    for num in numbers:\n",
        "        if num > first:\n",
        "            second = first\n",
        "            first = num\n",
        "        elif num > second and num != first:\n",
        "            second = num\n",
        "\n",
        "    return second\n",
        "\n",
        "# Example Usage:\n",
        "numbers = [10, 20, 4, 45, 99]\n",
        "print(\"Second Largest Number:\", second_largest(numbers))\n"
      ],
      "metadata": {
        "colab": {
          "base_uri": "https://localhost:8080/"
        },
        "id": "_U_5u6aE49XE",
        "outputId": "97e5e164-359b-4b76-cc2d-07f23d3748ef"
      },
      "execution_count": 34,
      "outputs": [
        {
          "output_type": "stream",
          "name": "stdout",
          "text": [
            "Second Largest Number: 45\n"
          ]
        }
      ]
    },
    {
      "cell_type": "code",
      "source": [
        "'''Given a list of numbers and a target sum, find all pairs in the list that add up to the target.\n",
        "Example:\n",
        "Input: [2, 4, 3, 7, 1, 9], Target: 10\n",
        "Output: [(3, 7), (1, 9)]'''\n",
        "\n",
        "def find_pairs(numbers, target):\n",
        "    seen = set()\n",
        "    pairs = []\n",
        "\n",
        "    for num in numbers:\n",
        "        complement = target - num\n",
        "        if complement in seen:\n",
        "            pairs.append((complement, num))\n",
        "        seen.add(num)\n",
        "\n",
        "    return pairs\n",
        "\n",
        "# Example Usage:\n",
        "numbers = [2, 4, 3, 7, 1, 9]\n",
        "target = 10\n",
        "result = find_pairs(numbers, target)\n",
        "\n",
        "print(\"Pairs:\", result)\n"
      ],
      "metadata": {
        "colab": {
          "base_uri": "https://localhost:8080/"
        },
        "id": "1paFrEGB5k2j",
        "outputId": "0d4769bd-7a07-4cef-dbde-524fbfe36845"
      },
      "execution_count": 35,
      "outputs": [
        {
          "output_type": "stream",
          "name": "stdout",
          "text": [
            "Pairs: [(3, 7), (1, 9)]\n"
          ]
        }
      ]
    },
    {
      "cell_type": "code",
      "source": [
        "'''You are given the following Pandas DataFrame:\n",
        "import pandas as pd\n",
        "df = pd.DataFrame({\n",
        "    \"Name\": [\"Alice\", \"Bob\", \"Charlie\", \"David\"],\n",
        "    \"Age\": [24, 27, 22, 32],\n",
        "    \"Score\": [85, 90, 78, 88]\n",
        "})\n",
        "Write a one-liner to filter and display only rows where Age is greater than 25\n",
        "'''\n",
        "import pandas as pd\n",
        "df = pd.DataFrame({\n",
        "    \"Name\": [\"Alice\", \"Bob\", \"Charlie\", \"David\"],\n",
        "    \"Age\": [24, 27, 22, 32],\n",
        "    \"Score\": [85, 90, 78, 88]\n",
        "})\n",
        "df[df[\"Age\"] > 25]\n"
      ],
      "metadata": {
        "colab": {
          "base_uri": "https://localhost:8080/",
          "height": 112
        },
        "id": "mq1iu8ht57CG",
        "outputId": "545e6bc1-0003-4ff0-e2f9-f860abfad156"
      },
      "execution_count": 37,
      "outputs": [
        {
          "output_type": "execute_result",
          "data": {
            "text/plain": [
              "    Name  Age  Score\n",
              "1    Bob   27     90\n",
              "3  David   32     88"
            ],
            "text/html": [
              "\n",
              "  <div id=\"df-b14e150e-3d35-49fe-a3f1-af83fc7de303\" class=\"colab-df-container\">\n",
              "    <div>\n",
              "<style scoped>\n",
              "    .dataframe tbody tr th:only-of-type {\n",
              "        vertical-align: middle;\n",
              "    }\n",
              "\n",
              "    .dataframe tbody tr th {\n",
              "        vertical-align: top;\n",
              "    }\n",
              "\n",
              "    .dataframe thead th {\n",
              "        text-align: right;\n",
              "    }\n",
              "</style>\n",
              "<table border=\"1\" class=\"dataframe\">\n",
              "  <thead>\n",
              "    <tr style=\"text-align: right;\">\n",
              "      <th></th>\n",
              "      <th>Name</th>\n",
              "      <th>Age</th>\n",
              "      <th>Score</th>\n",
              "    </tr>\n",
              "  </thead>\n",
              "  <tbody>\n",
              "    <tr>\n",
              "      <th>1</th>\n",
              "      <td>Bob</td>\n",
              "      <td>27</td>\n",
              "      <td>90</td>\n",
              "    </tr>\n",
              "    <tr>\n",
              "      <th>3</th>\n",
              "      <td>David</td>\n",
              "      <td>32</td>\n",
              "      <td>88</td>\n",
              "    </tr>\n",
              "  </tbody>\n",
              "</table>\n",
              "</div>\n",
              "    <div class=\"colab-df-buttons\">\n",
              "\n",
              "  <div class=\"colab-df-container\">\n",
              "    <button class=\"colab-df-convert\" onclick=\"convertToInteractive('df-b14e150e-3d35-49fe-a3f1-af83fc7de303')\"\n",
              "            title=\"Convert this dataframe to an interactive table.\"\n",
              "            style=\"display:none;\">\n",
              "\n",
              "  <svg xmlns=\"http://www.w3.org/2000/svg\" height=\"24px\" viewBox=\"0 -960 960 960\">\n",
              "    <path d=\"M120-120v-720h720v720H120Zm60-500h600v-160H180v160Zm220 220h160v-160H400v160Zm0 220h160v-160H400v160ZM180-400h160v-160H180v160Zm440 0h160v-160H620v160ZM180-180h160v-160H180v160Zm440 0h160v-160H620v160Z\"/>\n",
              "  </svg>\n",
              "    </button>\n",
              "\n",
              "  <style>\n",
              "    .colab-df-container {\n",
              "      display:flex;\n",
              "      gap: 12px;\n",
              "    }\n",
              "\n",
              "    .colab-df-convert {\n",
              "      background-color: #E8F0FE;\n",
              "      border: none;\n",
              "      border-radius: 50%;\n",
              "      cursor: pointer;\n",
              "      display: none;\n",
              "      fill: #1967D2;\n",
              "      height: 32px;\n",
              "      padding: 0 0 0 0;\n",
              "      width: 32px;\n",
              "    }\n",
              "\n",
              "    .colab-df-convert:hover {\n",
              "      background-color: #E2EBFA;\n",
              "      box-shadow: 0px 1px 2px rgba(60, 64, 67, 0.3), 0px 1px 3px 1px rgba(60, 64, 67, 0.15);\n",
              "      fill: #174EA6;\n",
              "    }\n",
              "\n",
              "    .colab-df-buttons div {\n",
              "      margin-bottom: 4px;\n",
              "    }\n",
              "\n",
              "    [theme=dark] .colab-df-convert {\n",
              "      background-color: #3B4455;\n",
              "      fill: #D2E3FC;\n",
              "    }\n",
              "\n",
              "    [theme=dark] .colab-df-convert:hover {\n",
              "      background-color: #434B5C;\n",
              "      box-shadow: 0px 1px 3px 1px rgba(0, 0, 0, 0.15);\n",
              "      filter: drop-shadow(0px 1px 2px rgba(0, 0, 0, 0.3));\n",
              "      fill: #FFFFFF;\n",
              "    }\n",
              "  </style>\n",
              "\n",
              "    <script>\n",
              "      const buttonEl =\n",
              "        document.querySelector('#df-b14e150e-3d35-49fe-a3f1-af83fc7de303 button.colab-df-convert');\n",
              "      buttonEl.style.display =\n",
              "        google.colab.kernel.accessAllowed ? 'block' : 'none';\n",
              "\n",
              "      async function convertToInteractive(key) {\n",
              "        const element = document.querySelector('#df-b14e150e-3d35-49fe-a3f1-af83fc7de303');\n",
              "        const dataTable =\n",
              "          await google.colab.kernel.invokeFunction('convertToInteractive',\n",
              "                                                    [key], {});\n",
              "        if (!dataTable) return;\n",
              "\n",
              "        const docLinkHtml = 'Like what you see? Visit the ' +\n",
              "          '<a target=\"_blank\" href=https://colab.research.google.com/notebooks/data_table.ipynb>data table notebook</a>'\n",
              "          + ' to learn more about interactive tables.';\n",
              "        element.innerHTML = '';\n",
              "        dataTable['output_type'] = 'display_data';\n",
              "        await google.colab.output.renderOutput(dataTable, element);\n",
              "        const docLink = document.createElement('div');\n",
              "        docLink.innerHTML = docLinkHtml;\n",
              "        element.appendChild(docLink);\n",
              "      }\n",
              "    </script>\n",
              "  </div>\n",
              "\n",
              "\n",
              "<div id=\"df-d2ecf3bd-1e29-4128-a4b6-4893da3739e6\">\n",
              "  <button class=\"colab-df-quickchart\" onclick=\"quickchart('df-d2ecf3bd-1e29-4128-a4b6-4893da3739e6')\"\n",
              "            title=\"Suggest charts\"\n",
              "            style=\"display:none;\">\n",
              "\n",
              "<svg xmlns=\"http://www.w3.org/2000/svg\" height=\"24px\"viewBox=\"0 0 24 24\"\n",
              "     width=\"24px\">\n",
              "    <g>\n",
              "        <path d=\"M19 3H5c-1.1 0-2 .9-2 2v14c0 1.1.9 2 2 2h14c1.1 0 2-.9 2-2V5c0-1.1-.9-2-2-2zM9 17H7v-7h2v7zm4 0h-2V7h2v10zm4 0h-2v-4h2v4z\"/>\n",
              "    </g>\n",
              "</svg>\n",
              "  </button>\n",
              "\n",
              "<style>\n",
              "  .colab-df-quickchart {\n",
              "      --bg-color: #E8F0FE;\n",
              "      --fill-color: #1967D2;\n",
              "      --hover-bg-color: #E2EBFA;\n",
              "      --hover-fill-color: #174EA6;\n",
              "      --disabled-fill-color: #AAA;\n",
              "      --disabled-bg-color: #DDD;\n",
              "  }\n",
              "\n",
              "  [theme=dark] .colab-df-quickchart {\n",
              "      --bg-color: #3B4455;\n",
              "      --fill-color: #D2E3FC;\n",
              "      --hover-bg-color: #434B5C;\n",
              "      --hover-fill-color: #FFFFFF;\n",
              "      --disabled-bg-color: #3B4455;\n",
              "      --disabled-fill-color: #666;\n",
              "  }\n",
              "\n",
              "  .colab-df-quickchart {\n",
              "    background-color: var(--bg-color);\n",
              "    border: none;\n",
              "    border-radius: 50%;\n",
              "    cursor: pointer;\n",
              "    display: none;\n",
              "    fill: var(--fill-color);\n",
              "    height: 32px;\n",
              "    padding: 0;\n",
              "    width: 32px;\n",
              "  }\n",
              "\n",
              "  .colab-df-quickchart:hover {\n",
              "    background-color: var(--hover-bg-color);\n",
              "    box-shadow: 0 1px 2px rgba(60, 64, 67, 0.3), 0 1px 3px 1px rgba(60, 64, 67, 0.15);\n",
              "    fill: var(--button-hover-fill-color);\n",
              "  }\n",
              "\n",
              "  .colab-df-quickchart-complete:disabled,\n",
              "  .colab-df-quickchart-complete:disabled:hover {\n",
              "    background-color: var(--disabled-bg-color);\n",
              "    fill: var(--disabled-fill-color);\n",
              "    box-shadow: none;\n",
              "  }\n",
              "\n",
              "  .colab-df-spinner {\n",
              "    border: 2px solid var(--fill-color);\n",
              "    border-color: transparent;\n",
              "    border-bottom-color: var(--fill-color);\n",
              "    animation:\n",
              "      spin 1s steps(1) infinite;\n",
              "  }\n",
              "\n",
              "  @keyframes spin {\n",
              "    0% {\n",
              "      border-color: transparent;\n",
              "      border-bottom-color: var(--fill-color);\n",
              "      border-left-color: var(--fill-color);\n",
              "    }\n",
              "    20% {\n",
              "      border-color: transparent;\n",
              "      border-left-color: var(--fill-color);\n",
              "      border-top-color: var(--fill-color);\n",
              "    }\n",
              "    30% {\n",
              "      border-color: transparent;\n",
              "      border-left-color: var(--fill-color);\n",
              "      border-top-color: var(--fill-color);\n",
              "      border-right-color: var(--fill-color);\n",
              "    }\n",
              "    40% {\n",
              "      border-color: transparent;\n",
              "      border-right-color: var(--fill-color);\n",
              "      border-top-color: var(--fill-color);\n",
              "    }\n",
              "    60% {\n",
              "      border-color: transparent;\n",
              "      border-right-color: var(--fill-color);\n",
              "    }\n",
              "    80% {\n",
              "      border-color: transparent;\n",
              "      border-right-color: var(--fill-color);\n",
              "      border-bottom-color: var(--fill-color);\n",
              "    }\n",
              "    90% {\n",
              "      border-color: transparent;\n",
              "      border-bottom-color: var(--fill-color);\n",
              "    }\n",
              "  }\n",
              "</style>\n",
              "\n",
              "  <script>\n",
              "    async function quickchart(key) {\n",
              "      const quickchartButtonEl =\n",
              "        document.querySelector('#' + key + ' button');\n",
              "      quickchartButtonEl.disabled = true;  // To prevent multiple clicks.\n",
              "      quickchartButtonEl.classList.add('colab-df-spinner');\n",
              "      try {\n",
              "        const charts = await google.colab.kernel.invokeFunction(\n",
              "            'suggestCharts', [key], {});\n",
              "      } catch (error) {\n",
              "        console.error('Error during call to suggestCharts:', error);\n",
              "      }\n",
              "      quickchartButtonEl.classList.remove('colab-df-spinner');\n",
              "      quickchartButtonEl.classList.add('colab-df-quickchart-complete');\n",
              "    }\n",
              "    (() => {\n",
              "      let quickchartButtonEl =\n",
              "        document.querySelector('#df-d2ecf3bd-1e29-4128-a4b6-4893da3739e6 button');\n",
              "      quickchartButtonEl.style.display =\n",
              "        google.colab.kernel.accessAllowed ? 'block' : 'none';\n",
              "    })();\n",
              "  </script>\n",
              "</div>\n",
              "\n",
              "    </div>\n",
              "  </div>\n"
            ],
            "application/vnd.google.colaboratory.intrinsic+json": {
              "type": "dataframe",
              "summary": "{\n  \"name\": \"df[df[\\\"Age\\\"] > 25]\",\n  \"rows\": 2,\n  \"fields\": [\n    {\n      \"column\": \"Name\",\n      \"properties\": {\n        \"dtype\": \"string\",\n        \"num_unique_values\": 2,\n        \"samples\": [\n          \"David\",\n          \"Bob\"\n        ],\n        \"semantic_type\": \"\",\n        \"description\": \"\"\n      }\n    },\n    {\n      \"column\": \"Age\",\n      \"properties\": {\n        \"dtype\": \"number\",\n        \"std\": 3,\n        \"min\": 27,\n        \"max\": 32,\n        \"num_unique_values\": 2,\n        \"samples\": [\n          32,\n          27\n        ],\n        \"semantic_type\": \"\",\n        \"description\": \"\"\n      }\n    },\n    {\n      \"column\": \"Score\",\n      \"properties\": {\n        \"dtype\": \"number\",\n        \"std\": 1,\n        \"min\": 88,\n        \"max\": 90,\n        \"num_unique_values\": 2,\n        \"samples\": [\n          88,\n          90\n        ],\n        \"semantic_type\": \"\",\n        \"description\": \"\"\n      }\n    }\n  ]\n}"
            }
          },
          "metadata": {},
          "execution_count": 37
        }
      ]
    },
    {
      "cell_type": "code",
      "source": [
        "'''You have the following DataFrame:\n",
        "df = pd.DataFrame({\n",
        "    \"Department\": [\"IT\", \"HR\", \"IT\", \"Finance\", \"HR\"],\n",
        "    \"Salary\": [70000, 50000, 80000, 60000, 52000]\n",
        "})\n",
        "Write a Pandas command to calculate the average salary per department\n",
        "'''\n",
        "\n",
        "import pandas as pd\n",
        "df = pd.DataFrame({\n",
        "    \"Department\": [\"IT\", \"HR\", \"IT\", \"Finance\", \"HR\"],\n",
        "    \"Salary\": [70000, 50000, 80000, 60000, 52000]\n",
        "})\n",
        "df.groupby(\"Department\")[\"Salary\"].mean()\n"
      ],
      "metadata": {
        "colab": {
          "base_uri": "https://localhost:8080/",
          "height": 209
        },
        "id": "VzYa1Ij06sa9",
        "outputId": "c2b11a74-56a0-4354-8649-8588ed2ce91d"
      },
      "execution_count": 38,
      "outputs": [
        {
          "output_type": "execute_result",
          "data": {
            "text/plain": [
              "Department\n",
              "Finance    60000.0\n",
              "HR         51000.0\n",
              "IT         75000.0\n",
              "Name: Salary, dtype: float64"
            ],
            "text/html": [
              "<div>\n",
              "<style scoped>\n",
              "    .dataframe tbody tr th:only-of-type {\n",
              "        vertical-align: middle;\n",
              "    }\n",
              "\n",
              "    .dataframe tbody tr th {\n",
              "        vertical-align: top;\n",
              "    }\n",
              "\n",
              "    .dataframe thead th {\n",
              "        text-align: right;\n",
              "    }\n",
              "</style>\n",
              "<table border=\"1\" class=\"dataframe\">\n",
              "  <thead>\n",
              "    <tr style=\"text-align: right;\">\n",
              "      <th></th>\n",
              "      <th>Salary</th>\n",
              "    </tr>\n",
              "    <tr>\n",
              "      <th>Department</th>\n",
              "      <th></th>\n",
              "    </tr>\n",
              "  </thead>\n",
              "  <tbody>\n",
              "    <tr>\n",
              "      <th>Finance</th>\n",
              "      <td>60000.0</td>\n",
              "    </tr>\n",
              "    <tr>\n",
              "      <th>HR</th>\n",
              "      <td>51000.0</td>\n",
              "    </tr>\n",
              "    <tr>\n",
              "      <th>IT</th>\n",
              "      <td>75000.0</td>\n",
              "    </tr>\n",
              "  </tbody>\n",
              "</table>\n",
              "</div><br><label><b>dtype:</b> float64</label>"
            ]
          },
          "metadata": {},
          "execution_count": 38
        }
      ]
    },
    {
      "cell_type": "code",
      "source": [
        "'''Write a program to create a 5x5 NumPy matrix where:\n",
        "•\tThe diagonal elements are 1\n",
        "•\tAll other elements are 0\n",
        "'''\n",
        "import numpy as np\n",
        "\n",
        "# Create a 5x5 identity matrix\n",
        "matrix = np.eye(5)\n",
        "\n",
        "print(matrix)\n"
      ],
      "metadata": {
        "colab": {
          "base_uri": "https://localhost:8080/"
        },
        "id": "-x9PEnwl686I",
        "outputId": "e088b34d-64bb-4adf-c21e-99746c96dd50"
      },
      "execution_count": 39,
      "outputs": [
        {
          "output_type": "stream",
          "name": "stdout",
          "text": [
            "[[1. 0. 0. 0. 0.]\n",
            " [0. 1. 0. 0. 0.]\n",
            " [0. 0. 1. 0. 0.]\n",
            " [0. 0. 0. 1. 0.]\n",
            " [0. 0. 0. 0. 1.]]\n"
          ]
        }
      ]
    },
    {
      "cell_type": "code",
      "source": [
        "'''Given two NumPy arrays:\n",
        "import numpy as np\n",
        "a = np.array([1, 2, 3, 4])\n",
        "b = np.array([10, 20, 30, 40])\n",
        "Perform element-wise:\n",
        "1.\tAddition\n",
        "2.\tMultiplication\n",
        "3.\tPower (a^b)\n",
        "Print the results.\n",
        "'''\n",
        "import numpy as np\n",
        "\n",
        "a = np.array([1, 2, 3, 4])\n",
        "b = np.array([10, 20, 30, 40])\n",
        "\n",
        "# 1. Element-wise Addition\n",
        "addition_result = a + b\n",
        "\n",
        "# 2. Element-wise Multiplication\n",
        "multiplication_result = a * b\n",
        "\n",
        "# 3. Element-wise Power (a^b)\n",
        "power_result = a ** b\n",
        "\n",
        "# Print the results\n",
        "print(\"Addition Result:\", addition_result)\n",
        "print(\"Multiplication Result:\", multiplication_result)\n",
        "print(\"Power Result (a^b):\", power_result)\n"
      ],
      "metadata": {
        "colab": {
          "base_uri": "https://localhost:8080/"
        },
        "id": "6j_yH3iA7KeK",
        "outputId": "41ab4de6-e4be-4fa4-86e6-b74980689fa1"
      },
      "execution_count": 41,
      "outputs": [
        {
          "output_type": "stream",
          "name": "stdout",
          "text": [
            "Addition Result: [11 22 33 44]\n",
            "Multiplication Result: [ 10  40  90 160]\n",
            "Power Result (a^b): [              1         1048576 205891132094649               0]\n"
          ]
        }
      ]
    },
    {
      "cell_type": "code",
      "source": [
        "'''arr = np.array([10, 25, 39, 50, 19])\n",
        "Write a one-liner to find the index of the maximum value.\n",
        "'''\n",
        "arr = np.array([10, 25, 39, 50, 19])\n",
        "index_max = arr.argmax()\n",
        "print(index_max)"
      ],
      "metadata": {
        "colab": {
          "base_uri": "https://localhost:8080/"
        },
        "id": "b9roObur79ZZ",
        "outputId": "343a4d0d-c0f0-4e24-f796-a2c8e09bff07"
      },
      "execution_count": 43,
      "outputs": [
        {
          "output_type": "stream",
          "name": "stdout",
          "text": [
            "3\n"
          ]
        }
      ]
    }
  ]
}