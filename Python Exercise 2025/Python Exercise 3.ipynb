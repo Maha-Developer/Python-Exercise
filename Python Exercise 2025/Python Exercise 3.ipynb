{
 "cells": [
  {
   "cell_type": "code",
   "execution_count": 1,
   "id": "81588166",
   "metadata": {},
   "outputs": [],
   "source": [
    "import pandas as pd\n",
    "# Load the CSV file into a Pandas DataFrame\n",
    "df = pd.read_csv(\"Automobile.csv\")"
   ]
  },
  {
   "cell_type": "code",
   "execution_count": 2,
   "id": "226a6e87",
   "metadata": {},
   "outputs": [
    {
     "data": {
      "text/html": [
       "<div>\n",
       "<style scoped>\n",
       "    .dataframe tbody tr th:only-of-type {\n",
       "        vertical-align: middle;\n",
       "    }\n",
       "\n",
       "    .dataframe tbody tr th {\n",
       "        vertical-align: top;\n",
       "    }\n",
       "\n",
       "    .dataframe thead th {\n",
       "        text-align: right;\n",
       "    }\n",
       "</style>\n",
       "<table border=\"1\" class=\"dataframe\">\n",
       "  <thead>\n",
       "    <tr style=\"text-align: right;\">\n",
       "      <th></th>\n",
       "      <th>symboling</th>\n",
       "      <th>normalized_losses</th>\n",
       "      <th>make</th>\n",
       "      <th>fuel_type</th>\n",
       "      <th>aspiration</th>\n",
       "      <th>number_of_doors</th>\n",
       "      <th>body_style</th>\n",
       "      <th>drive_wheels</th>\n",
       "      <th>engine_location</th>\n",
       "      <th>wheel_base</th>\n",
       "      <th>...</th>\n",
       "      <th>engine_size</th>\n",
       "      <th>fuel_system</th>\n",
       "      <th>bore</th>\n",
       "      <th>stroke</th>\n",
       "      <th>compression_ratio</th>\n",
       "      <th>horsepower</th>\n",
       "      <th>peak_rpm</th>\n",
       "      <th>city_mpg</th>\n",
       "      <th>highway_mpg</th>\n",
       "      <th>price</th>\n",
       "    </tr>\n",
       "  </thead>\n",
       "  <tbody>\n",
       "    <tr>\n",
       "      <th>0</th>\n",
       "      <td>3</td>\n",
       "      <td>168</td>\n",
       "      <td>alfa-romero</td>\n",
       "      <td>gas</td>\n",
       "      <td>std</td>\n",
       "      <td>two</td>\n",
       "      <td>convertible</td>\n",
       "      <td>rwd</td>\n",
       "      <td>front</td>\n",
       "      <td>88.6</td>\n",
       "      <td>...</td>\n",
       "      <td>130</td>\n",
       "      <td>mpfi</td>\n",
       "      <td>3.47</td>\n",
       "      <td>2.68</td>\n",
       "      <td>9.00</td>\n",
       "      <td>111</td>\n",
       "      <td>5000</td>\n",
       "      <td>21</td>\n",
       "      <td>27</td>\n",
       "      <td>13495</td>\n",
       "    </tr>\n",
       "    <tr>\n",
       "      <th>1</th>\n",
       "      <td>3</td>\n",
       "      <td>168</td>\n",
       "      <td>alfa-romero</td>\n",
       "      <td>gas</td>\n",
       "      <td>std</td>\n",
       "      <td>two</td>\n",
       "      <td>convertible</td>\n",
       "      <td>rwd</td>\n",
       "      <td>front</td>\n",
       "      <td>88.6</td>\n",
       "      <td>...</td>\n",
       "      <td>130</td>\n",
       "      <td>mpfi</td>\n",
       "      <td>3.47</td>\n",
       "      <td>2.68</td>\n",
       "      <td>9.00</td>\n",
       "      <td>111</td>\n",
       "      <td>5000</td>\n",
       "      <td>21</td>\n",
       "      <td>27</td>\n",
       "      <td>16500</td>\n",
       "    </tr>\n",
       "    <tr>\n",
       "      <th>2</th>\n",
       "      <td>1</td>\n",
       "      <td>168</td>\n",
       "      <td>alfa-romero</td>\n",
       "      <td>gas</td>\n",
       "      <td>std</td>\n",
       "      <td>two</td>\n",
       "      <td>hatchback</td>\n",
       "      <td>rwd</td>\n",
       "      <td>front</td>\n",
       "      <td>94.5</td>\n",
       "      <td>...</td>\n",
       "      <td>152</td>\n",
       "      <td>mpfi</td>\n",
       "      <td>2.68</td>\n",
       "      <td>3.47</td>\n",
       "      <td>9.00</td>\n",
       "      <td>154</td>\n",
       "      <td>5000</td>\n",
       "      <td>19</td>\n",
       "      <td>26</td>\n",
       "      <td>16500</td>\n",
       "    </tr>\n",
       "    <tr>\n",
       "      <th>3</th>\n",
       "      <td>2</td>\n",
       "      <td>164</td>\n",
       "      <td>audi</td>\n",
       "      <td>gas</td>\n",
       "      <td>std</td>\n",
       "      <td>four</td>\n",
       "      <td>sedan</td>\n",
       "      <td>fwd</td>\n",
       "      <td>front</td>\n",
       "      <td>99.8</td>\n",
       "      <td>...</td>\n",
       "      <td>109</td>\n",
       "      <td>mpfi</td>\n",
       "      <td>3.19</td>\n",
       "      <td>3.40</td>\n",
       "      <td>10.00</td>\n",
       "      <td>102</td>\n",
       "      <td>5500</td>\n",
       "      <td>24</td>\n",
       "      <td>30</td>\n",
       "      <td>13950</td>\n",
       "    </tr>\n",
       "    <tr>\n",
       "      <th>4</th>\n",
       "      <td>2</td>\n",
       "      <td>164</td>\n",
       "      <td>audi</td>\n",
       "      <td>gas</td>\n",
       "      <td>std</td>\n",
       "      <td>four</td>\n",
       "      <td>sedan</td>\n",
       "      <td>4wd</td>\n",
       "      <td>front</td>\n",
       "      <td>99.4</td>\n",
       "      <td>...</td>\n",
       "      <td>136</td>\n",
       "      <td>mpfi</td>\n",
       "      <td>3.19</td>\n",
       "      <td>3.40</td>\n",
       "      <td>8.00</td>\n",
       "      <td>115</td>\n",
       "      <td>5500</td>\n",
       "      <td>18</td>\n",
       "      <td>22</td>\n",
       "      <td>17450</td>\n",
       "    </tr>\n",
       "    <tr>\n",
       "      <th>5</th>\n",
       "      <td>2</td>\n",
       "      <td>161</td>\n",
       "      <td>audi</td>\n",
       "      <td>gas</td>\n",
       "      <td>std</td>\n",
       "      <td>two</td>\n",
       "      <td>sedan</td>\n",
       "      <td>fwd</td>\n",
       "      <td>front</td>\n",
       "      <td>99.8</td>\n",
       "      <td>...</td>\n",
       "      <td>136</td>\n",
       "      <td>mpfi</td>\n",
       "      <td>3.19</td>\n",
       "      <td>3.40</td>\n",
       "      <td>8.50</td>\n",
       "      <td>110</td>\n",
       "      <td>5500</td>\n",
       "      <td>19</td>\n",
       "      <td>25</td>\n",
       "      <td>15250</td>\n",
       "    </tr>\n",
       "    <tr>\n",
       "      <th>6</th>\n",
       "      <td>1</td>\n",
       "      <td>158</td>\n",
       "      <td>audi</td>\n",
       "      <td>gas</td>\n",
       "      <td>std</td>\n",
       "      <td>four</td>\n",
       "      <td>sedan</td>\n",
       "      <td>fwd</td>\n",
       "      <td>front</td>\n",
       "      <td>105.8</td>\n",
       "      <td>...</td>\n",
       "      <td>136</td>\n",
       "      <td>mpfi</td>\n",
       "      <td>3.19</td>\n",
       "      <td>3.40</td>\n",
       "      <td>8.50</td>\n",
       "      <td>110</td>\n",
       "      <td>5500</td>\n",
       "      <td>19</td>\n",
       "      <td>25</td>\n",
       "      <td>17710</td>\n",
       "    </tr>\n",
       "    <tr>\n",
       "      <th>7</th>\n",
       "      <td>1</td>\n",
       "      <td>168</td>\n",
       "      <td>audi</td>\n",
       "      <td>gas</td>\n",
       "      <td>std</td>\n",
       "      <td>four</td>\n",
       "      <td>wagon</td>\n",
       "      <td>fwd</td>\n",
       "      <td>front</td>\n",
       "      <td>105.8</td>\n",
       "      <td>...</td>\n",
       "      <td>136</td>\n",
       "      <td>mpfi</td>\n",
       "      <td>3.19</td>\n",
       "      <td>3.40</td>\n",
       "      <td>8.50</td>\n",
       "      <td>110</td>\n",
       "      <td>5500</td>\n",
       "      <td>19</td>\n",
       "      <td>25</td>\n",
       "      <td>18920</td>\n",
       "    </tr>\n",
       "    <tr>\n",
       "      <th>8</th>\n",
       "      <td>1</td>\n",
       "      <td>158</td>\n",
       "      <td>audi</td>\n",
       "      <td>gas</td>\n",
       "      <td>turbo</td>\n",
       "      <td>four</td>\n",
       "      <td>sedan</td>\n",
       "      <td>fwd</td>\n",
       "      <td>front</td>\n",
       "      <td>105.8</td>\n",
       "      <td>...</td>\n",
       "      <td>131</td>\n",
       "      <td>mpfi</td>\n",
       "      <td>3.13</td>\n",
       "      <td>3.40</td>\n",
       "      <td>8.30</td>\n",
       "      <td>140</td>\n",
       "      <td>5500</td>\n",
       "      <td>17</td>\n",
       "      <td>20</td>\n",
       "      <td>23875</td>\n",
       "    </tr>\n",
       "    <tr>\n",
       "      <th>9</th>\n",
       "      <td>2</td>\n",
       "      <td>192</td>\n",
       "      <td>bmw</td>\n",
       "      <td>gas</td>\n",
       "      <td>std</td>\n",
       "      <td>two</td>\n",
       "      <td>sedan</td>\n",
       "      <td>rwd</td>\n",
       "      <td>front</td>\n",
       "      <td>101.2</td>\n",
       "      <td>...</td>\n",
       "      <td>108</td>\n",
       "      <td>mpfi</td>\n",
       "      <td>3.50</td>\n",
       "      <td>2.80</td>\n",
       "      <td>8.80</td>\n",
       "      <td>101</td>\n",
       "      <td>5800</td>\n",
       "      <td>23</td>\n",
       "      <td>29</td>\n",
       "      <td>16430</td>\n",
       "    </tr>\n",
       "    <tr>\n",
       "      <th>10</th>\n",
       "      <td>0</td>\n",
       "      <td>192</td>\n",
       "      <td>bmw</td>\n",
       "      <td>gas</td>\n",
       "      <td>std</td>\n",
       "      <td>four</td>\n",
       "      <td>sedan</td>\n",
       "      <td>rwd</td>\n",
       "      <td>front</td>\n",
       "      <td>101.2</td>\n",
       "      <td>...</td>\n",
       "      <td>108</td>\n",
       "      <td>mpfi</td>\n",
       "      <td>3.50</td>\n",
       "      <td>2.80</td>\n",
       "      <td>8.80</td>\n",
       "      <td>101</td>\n",
       "      <td>5800</td>\n",
       "      <td>23</td>\n",
       "      <td>29</td>\n",
       "      <td>16925</td>\n",
       "    </tr>\n",
       "    <tr>\n",
       "      <th>11</th>\n",
       "      <td>0</td>\n",
       "      <td>188</td>\n",
       "      <td>bmw</td>\n",
       "      <td>gas</td>\n",
       "      <td>std</td>\n",
       "      <td>two</td>\n",
       "      <td>sedan</td>\n",
       "      <td>rwd</td>\n",
       "      <td>front</td>\n",
       "      <td>101.2</td>\n",
       "      <td>...</td>\n",
       "      <td>164</td>\n",
       "      <td>mpfi</td>\n",
       "      <td>3.31</td>\n",
       "      <td>3.19</td>\n",
       "      <td>9.00</td>\n",
       "      <td>121</td>\n",
       "      <td>4250</td>\n",
       "      <td>21</td>\n",
       "      <td>28</td>\n",
       "      <td>20970</td>\n",
       "    </tr>\n",
       "    <tr>\n",
       "      <th>12</th>\n",
       "      <td>0</td>\n",
       "      <td>188</td>\n",
       "      <td>bmw</td>\n",
       "      <td>gas</td>\n",
       "      <td>std</td>\n",
       "      <td>four</td>\n",
       "      <td>sedan</td>\n",
       "      <td>rwd</td>\n",
       "      <td>front</td>\n",
       "      <td>101.2</td>\n",
       "      <td>...</td>\n",
       "      <td>164</td>\n",
       "      <td>mpfi</td>\n",
       "      <td>3.31</td>\n",
       "      <td>3.19</td>\n",
       "      <td>9.00</td>\n",
       "      <td>121</td>\n",
       "      <td>4250</td>\n",
       "      <td>21</td>\n",
       "      <td>28</td>\n",
       "      <td>21105</td>\n",
       "    </tr>\n",
       "    <tr>\n",
       "      <th>13</th>\n",
       "      <td>1</td>\n",
       "      <td>149</td>\n",
       "      <td>bmw</td>\n",
       "      <td>gas</td>\n",
       "      <td>std</td>\n",
       "      <td>four</td>\n",
       "      <td>sedan</td>\n",
       "      <td>rwd</td>\n",
       "      <td>front</td>\n",
       "      <td>103.5</td>\n",
       "      <td>...</td>\n",
       "      <td>164</td>\n",
       "      <td>mpfi</td>\n",
       "      <td>3.31</td>\n",
       "      <td>3.19</td>\n",
       "      <td>9.00</td>\n",
       "      <td>121</td>\n",
       "      <td>4250</td>\n",
       "      <td>20</td>\n",
       "      <td>25</td>\n",
       "      <td>24565</td>\n",
       "    </tr>\n",
       "    <tr>\n",
       "      <th>14</th>\n",
       "      <td>0</td>\n",
       "      <td>149</td>\n",
       "      <td>bmw</td>\n",
       "      <td>gas</td>\n",
       "      <td>std</td>\n",
       "      <td>four</td>\n",
       "      <td>sedan</td>\n",
       "      <td>rwd</td>\n",
       "      <td>front</td>\n",
       "      <td>103.5</td>\n",
       "      <td>...</td>\n",
       "      <td>209</td>\n",
       "      <td>mpfi</td>\n",
       "      <td>3.62</td>\n",
       "      <td>3.39</td>\n",
       "      <td>8.00</td>\n",
       "      <td>182</td>\n",
       "      <td>5400</td>\n",
       "      <td>16</td>\n",
       "      <td>22</td>\n",
       "      <td>30760</td>\n",
       "    </tr>\n",
       "    <tr>\n",
       "      <th>15</th>\n",
       "      <td>0</td>\n",
       "      <td>149</td>\n",
       "      <td>bmw</td>\n",
       "      <td>gas</td>\n",
       "      <td>std</td>\n",
       "      <td>two</td>\n",
       "      <td>sedan</td>\n",
       "      <td>rwd</td>\n",
       "      <td>front</td>\n",
       "      <td>103.5</td>\n",
       "      <td>...</td>\n",
       "      <td>209</td>\n",
       "      <td>mpfi</td>\n",
       "      <td>3.62</td>\n",
       "      <td>3.39</td>\n",
       "      <td>8.00</td>\n",
       "      <td>182</td>\n",
       "      <td>5400</td>\n",
       "      <td>16</td>\n",
       "      <td>22</td>\n",
       "      <td>41315</td>\n",
       "    </tr>\n",
       "    <tr>\n",
       "      <th>16</th>\n",
       "      <td>0</td>\n",
       "      <td>149</td>\n",
       "      <td>bmw</td>\n",
       "      <td>gas</td>\n",
       "      <td>std</td>\n",
       "      <td>four</td>\n",
       "      <td>sedan</td>\n",
       "      <td>rwd</td>\n",
       "      <td>front</td>\n",
       "      <td>110.0</td>\n",
       "      <td>...</td>\n",
       "      <td>209</td>\n",
       "      <td>mpfi</td>\n",
       "      <td>3.62</td>\n",
       "      <td>3.39</td>\n",
       "      <td>8.00</td>\n",
       "      <td>182</td>\n",
       "      <td>5400</td>\n",
       "      <td>15</td>\n",
       "      <td>20</td>\n",
       "      <td>36880</td>\n",
       "    </tr>\n",
       "    <tr>\n",
       "      <th>17</th>\n",
       "      <td>2</td>\n",
       "      <td>121</td>\n",
       "      <td>chevrolet</td>\n",
       "      <td>gas</td>\n",
       "      <td>std</td>\n",
       "      <td>two</td>\n",
       "      <td>hatchback</td>\n",
       "      <td>fwd</td>\n",
       "      <td>front</td>\n",
       "      <td>88.4</td>\n",
       "      <td>...</td>\n",
       "      <td>61</td>\n",
       "      <td>2bbl</td>\n",
       "      <td>2.91</td>\n",
       "      <td>3.03</td>\n",
       "      <td>9.50</td>\n",
       "      <td>48</td>\n",
       "      <td>5100</td>\n",
       "      <td>47</td>\n",
       "      <td>53</td>\n",
       "      <td>5151</td>\n",
       "    </tr>\n",
       "    <tr>\n",
       "      <th>18</th>\n",
       "      <td>1</td>\n",
       "      <td>98</td>\n",
       "      <td>chevrolet</td>\n",
       "      <td>gas</td>\n",
       "      <td>std</td>\n",
       "      <td>two</td>\n",
       "      <td>hatchback</td>\n",
       "      <td>fwd</td>\n",
       "      <td>front</td>\n",
       "      <td>94.5</td>\n",
       "      <td>...</td>\n",
       "      <td>90</td>\n",
       "      <td>2bbl</td>\n",
       "      <td>3.03</td>\n",
       "      <td>3.11</td>\n",
       "      <td>9.60</td>\n",
       "      <td>70</td>\n",
       "      <td>5400</td>\n",
       "      <td>38</td>\n",
       "      <td>43</td>\n",
       "      <td>6295</td>\n",
       "    </tr>\n",
       "    <tr>\n",
       "      <th>19</th>\n",
       "      <td>0</td>\n",
       "      <td>81</td>\n",
       "      <td>chevrolet</td>\n",
       "      <td>gas</td>\n",
       "      <td>std</td>\n",
       "      <td>four</td>\n",
       "      <td>sedan</td>\n",
       "      <td>fwd</td>\n",
       "      <td>front</td>\n",
       "      <td>94.5</td>\n",
       "      <td>...</td>\n",
       "      <td>90</td>\n",
       "      <td>2bbl</td>\n",
       "      <td>3.03</td>\n",
       "      <td>3.11</td>\n",
       "      <td>9.60</td>\n",
       "      <td>70</td>\n",
       "      <td>5400</td>\n",
       "      <td>38</td>\n",
       "      <td>43</td>\n",
       "      <td>6575</td>\n",
       "    </tr>\n",
       "    <tr>\n",
       "      <th>20</th>\n",
       "      <td>1</td>\n",
       "      <td>118</td>\n",
       "      <td>dodge</td>\n",
       "      <td>gas</td>\n",
       "      <td>std</td>\n",
       "      <td>two</td>\n",
       "      <td>hatchback</td>\n",
       "      <td>fwd</td>\n",
       "      <td>front</td>\n",
       "      <td>93.7</td>\n",
       "      <td>...</td>\n",
       "      <td>90</td>\n",
       "      <td>2bbl</td>\n",
       "      <td>2.97</td>\n",
       "      <td>3.23</td>\n",
       "      <td>9.41</td>\n",
       "      <td>68</td>\n",
       "      <td>5500</td>\n",
       "      <td>37</td>\n",
       "      <td>41</td>\n",
       "      <td>5572</td>\n",
       "    </tr>\n",
       "    <tr>\n",
       "      <th>21</th>\n",
       "      <td>1</td>\n",
       "      <td>118</td>\n",
       "      <td>dodge</td>\n",
       "      <td>gas</td>\n",
       "      <td>std</td>\n",
       "      <td>two</td>\n",
       "      <td>hatchback</td>\n",
       "      <td>fwd</td>\n",
       "      <td>front</td>\n",
       "      <td>93.7</td>\n",
       "      <td>...</td>\n",
       "      <td>90</td>\n",
       "      <td>2bbl</td>\n",
       "      <td>2.97</td>\n",
       "      <td>3.23</td>\n",
       "      <td>9.40</td>\n",
       "      <td>68</td>\n",
       "      <td>5500</td>\n",
       "      <td>31</td>\n",
       "      <td>38</td>\n",
       "      <td>6377</td>\n",
       "    </tr>\n",
       "    <tr>\n",
       "      <th>22</th>\n",
       "      <td>1</td>\n",
       "      <td>118</td>\n",
       "      <td>dodge</td>\n",
       "      <td>gas</td>\n",
       "      <td>turbo</td>\n",
       "      <td>two</td>\n",
       "      <td>hatchback</td>\n",
       "      <td>fwd</td>\n",
       "      <td>front</td>\n",
       "      <td>93.7</td>\n",
       "      <td>...</td>\n",
       "      <td>98</td>\n",
       "      <td>mpfi</td>\n",
       "      <td>3.03</td>\n",
       "      <td>3.39</td>\n",
       "      <td>7.60</td>\n",
       "      <td>102</td>\n",
       "      <td>5500</td>\n",
       "      <td>24</td>\n",
       "      <td>30</td>\n",
       "      <td>7957</td>\n",
       "    </tr>\n",
       "    <tr>\n",
       "      <th>23</th>\n",
       "      <td>1</td>\n",
       "      <td>148</td>\n",
       "      <td>dodge</td>\n",
       "      <td>gas</td>\n",
       "      <td>std</td>\n",
       "      <td>four</td>\n",
       "      <td>hatchback</td>\n",
       "      <td>fwd</td>\n",
       "      <td>front</td>\n",
       "      <td>93.7</td>\n",
       "      <td>...</td>\n",
       "      <td>90</td>\n",
       "      <td>2bbl</td>\n",
       "      <td>2.97</td>\n",
       "      <td>3.23</td>\n",
       "      <td>9.40</td>\n",
       "      <td>68</td>\n",
       "      <td>5500</td>\n",
       "      <td>31</td>\n",
       "      <td>38</td>\n",
       "      <td>6229</td>\n",
       "    </tr>\n",
       "    <tr>\n",
       "      <th>24</th>\n",
       "      <td>1</td>\n",
       "      <td>148</td>\n",
       "      <td>dodge</td>\n",
       "      <td>gas</td>\n",
       "      <td>std</td>\n",
       "      <td>four</td>\n",
       "      <td>sedan</td>\n",
       "      <td>fwd</td>\n",
       "      <td>front</td>\n",
       "      <td>93.7</td>\n",
       "      <td>...</td>\n",
       "      <td>90</td>\n",
       "      <td>2bbl</td>\n",
       "      <td>2.97</td>\n",
       "      <td>3.23</td>\n",
       "      <td>9.40</td>\n",
       "      <td>68</td>\n",
       "      <td>5500</td>\n",
       "      <td>31</td>\n",
       "      <td>38</td>\n",
       "      <td>6692</td>\n",
       "    </tr>\n",
       "    <tr>\n",
       "      <th>25</th>\n",
       "      <td>1</td>\n",
       "      <td>148</td>\n",
       "      <td>dodge</td>\n",
       "      <td>gas</td>\n",
       "      <td>std</td>\n",
       "      <td>four</td>\n",
       "      <td>sedan</td>\n",
       "      <td>fwd</td>\n",
       "      <td>front</td>\n",
       "      <td>93.7</td>\n",
       "      <td>...</td>\n",
       "      <td>90</td>\n",
       "      <td>2bbl</td>\n",
       "      <td>2.97</td>\n",
       "      <td>3.23</td>\n",
       "      <td>9.40</td>\n",
       "      <td>68</td>\n",
       "      <td>5500</td>\n",
       "      <td>31</td>\n",
       "      <td>38</td>\n",
       "      <td>7609</td>\n",
       "    </tr>\n",
       "    <tr>\n",
       "      <th>26</th>\n",
       "      <td>1</td>\n",
       "      <td>148</td>\n",
       "      <td>dodge</td>\n",
       "      <td>gas</td>\n",
       "      <td>turbo</td>\n",
       "      <td>two</td>\n",
       "      <td>sedan</td>\n",
       "      <td>fwd</td>\n",
       "      <td>front</td>\n",
       "      <td>93.7</td>\n",
       "      <td>...</td>\n",
       "      <td>98</td>\n",
       "      <td>mpfi</td>\n",
       "      <td>3.03</td>\n",
       "      <td>3.39</td>\n",
       "      <td>7.60</td>\n",
       "      <td>102</td>\n",
       "      <td>5500</td>\n",
       "      <td>24</td>\n",
       "      <td>30</td>\n",
       "      <td>8558</td>\n",
       "    </tr>\n",
       "    <tr>\n",
       "      <th>27</th>\n",
       "      <td>-1</td>\n",
       "      <td>110</td>\n",
       "      <td>dodge</td>\n",
       "      <td>gas</td>\n",
       "      <td>std</td>\n",
       "      <td>four</td>\n",
       "      <td>wagon</td>\n",
       "      <td>fwd</td>\n",
       "      <td>front</td>\n",
       "      <td>103.3</td>\n",
       "      <td>...</td>\n",
       "      <td>122</td>\n",
       "      <td>2bbl</td>\n",
       "      <td>3.34</td>\n",
       "      <td>3.46</td>\n",
       "      <td>8.50</td>\n",
       "      <td>88</td>\n",
       "      <td>5000</td>\n",
       "      <td>24</td>\n",
       "      <td>30</td>\n",
       "      <td>8921</td>\n",
       "    </tr>\n",
       "    <tr>\n",
       "      <th>28</th>\n",
       "      <td>3</td>\n",
       "      <td>145</td>\n",
       "      <td>dodge</td>\n",
       "      <td>gas</td>\n",
       "      <td>turbo</td>\n",
       "      <td>two</td>\n",
       "      <td>hatchback</td>\n",
       "      <td>fwd</td>\n",
       "      <td>front</td>\n",
       "      <td>95.9</td>\n",
       "      <td>...</td>\n",
       "      <td>156</td>\n",
       "      <td>mfi</td>\n",
       "      <td>3.60</td>\n",
       "      <td>3.90</td>\n",
       "      <td>7.00</td>\n",
       "      <td>145</td>\n",
       "      <td>5000</td>\n",
       "      <td>19</td>\n",
       "      <td>24</td>\n",
       "      <td>12964</td>\n",
       "    </tr>\n",
       "    <tr>\n",
       "      <th>29</th>\n",
       "      <td>2</td>\n",
       "      <td>137</td>\n",
       "      <td>honda</td>\n",
       "      <td>gas</td>\n",
       "      <td>std</td>\n",
       "      <td>two</td>\n",
       "      <td>hatchback</td>\n",
       "      <td>fwd</td>\n",
       "      <td>front</td>\n",
       "      <td>86.6</td>\n",
       "      <td>...</td>\n",
       "      <td>92</td>\n",
       "      <td>1bbl</td>\n",
       "      <td>2.91</td>\n",
       "      <td>3.41</td>\n",
       "      <td>9.60</td>\n",
       "      <td>58</td>\n",
       "      <td>4800</td>\n",
       "      <td>49</td>\n",
       "      <td>54</td>\n",
       "      <td>6479</td>\n",
       "    </tr>\n",
       "  </tbody>\n",
       "</table>\n",
       "<p>30 rows × 26 columns</p>\n",
       "</div>"
      ],
      "text/plain": [
       "    symboling  normalized_losses         make fuel_type aspiration  \\\n",
       "0           3                168  alfa-romero       gas        std   \n",
       "1           3                168  alfa-romero       gas        std   \n",
       "2           1                168  alfa-romero       gas        std   \n",
       "3           2                164         audi       gas        std   \n",
       "4           2                164         audi       gas        std   \n",
       "5           2                161         audi       gas        std   \n",
       "6           1                158         audi       gas        std   \n",
       "7           1                168         audi       gas        std   \n",
       "8           1                158         audi       gas      turbo   \n",
       "9           2                192          bmw       gas        std   \n",
       "10          0                192          bmw       gas        std   \n",
       "11          0                188          bmw       gas        std   \n",
       "12          0                188          bmw       gas        std   \n",
       "13          1                149          bmw       gas        std   \n",
       "14          0                149          bmw       gas        std   \n",
       "15          0                149          bmw       gas        std   \n",
       "16          0                149          bmw       gas        std   \n",
       "17          2                121    chevrolet       gas        std   \n",
       "18          1                 98    chevrolet       gas        std   \n",
       "19          0                 81    chevrolet       gas        std   \n",
       "20          1                118        dodge       gas        std   \n",
       "21          1                118        dodge       gas        std   \n",
       "22          1                118        dodge       gas      turbo   \n",
       "23          1                148        dodge       gas        std   \n",
       "24          1                148        dodge       gas        std   \n",
       "25          1                148        dodge       gas        std   \n",
       "26          1                148        dodge       gas      turbo   \n",
       "27         -1                110        dodge       gas        std   \n",
       "28          3                145        dodge       gas      turbo   \n",
       "29          2                137        honda       gas        std   \n",
       "\n",
       "   number_of_doors   body_style drive_wheels engine_location  wheel_base  ...  \\\n",
       "0              two  convertible          rwd           front        88.6  ...   \n",
       "1              two  convertible          rwd           front        88.6  ...   \n",
       "2              two    hatchback          rwd           front        94.5  ...   \n",
       "3             four        sedan          fwd           front        99.8  ...   \n",
       "4             four        sedan          4wd           front        99.4  ...   \n",
       "5              two        sedan          fwd           front        99.8  ...   \n",
       "6             four        sedan          fwd           front       105.8  ...   \n",
       "7             four        wagon          fwd           front       105.8  ...   \n",
       "8             four        sedan          fwd           front       105.8  ...   \n",
       "9              two        sedan          rwd           front       101.2  ...   \n",
       "10            four        sedan          rwd           front       101.2  ...   \n",
       "11             two        sedan          rwd           front       101.2  ...   \n",
       "12            four        sedan          rwd           front       101.2  ...   \n",
       "13            four        sedan          rwd           front       103.5  ...   \n",
       "14            four        sedan          rwd           front       103.5  ...   \n",
       "15             two        sedan          rwd           front       103.5  ...   \n",
       "16            four        sedan          rwd           front       110.0  ...   \n",
       "17             two    hatchback          fwd           front        88.4  ...   \n",
       "18             two    hatchback          fwd           front        94.5  ...   \n",
       "19            four        sedan          fwd           front        94.5  ...   \n",
       "20             two    hatchback          fwd           front        93.7  ...   \n",
       "21             two    hatchback          fwd           front        93.7  ...   \n",
       "22             two    hatchback          fwd           front        93.7  ...   \n",
       "23            four    hatchback          fwd           front        93.7  ...   \n",
       "24            four        sedan          fwd           front        93.7  ...   \n",
       "25            four        sedan          fwd           front        93.7  ...   \n",
       "26             two        sedan          fwd           front        93.7  ...   \n",
       "27            four        wagon          fwd           front       103.3  ...   \n",
       "28             two    hatchback          fwd           front        95.9  ...   \n",
       "29             two    hatchback          fwd           front        86.6  ...   \n",
       "\n",
       "    engine_size  fuel_system  bore  stroke compression_ratio horsepower  \\\n",
       "0           130         mpfi  3.47    2.68              9.00        111   \n",
       "1           130         mpfi  3.47    2.68              9.00        111   \n",
       "2           152         mpfi  2.68    3.47              9.00        154   \n",
       "3           109         mpfi  3.19    3.40             10.00        102   \n",
       "4           136         mpfi  3.19    3.40              8.00        115   \n",
       "5           136         mpfi  3.19    3.40              8.50        110   \n",
       "6           136         mpfi  3.19    3.40              8.50        110   \n",
       "7           136         mpfi  3.19    3.40              8.50        110   \n",
       "8           131         mpfi  3.13    3.40              8.30        140   \n",
       "9           108         mpfi  3.50    2.80              8.80        101   \n",
       "10          108         mpfi  3.50    2.80              8.80        101   \n",
       "11          164         mpfi  3.31    3.19              9.00        121   \n",
       "12          164         mpfi  3.31    3.19              9.00        121   \n",
       "13          164         mpfi  3.31    3.19              9.00        121   \n",
       "14          209         mpfi  3.62    3.39              8.00        182   \n",
       "15          209         mpfi  3.62    3.39              8.00        182   \n",
       "16          209         mpfi  3.62    3.39              8.00        182   \n",
       "17           61         2bbl  2.91    3.03              9.50         48   \n",
       "18           90         2bbl  3.03    3.11              9.60         70   \n",
       "19           90         2bbl  3.03    3.11              9.60         70   \n",
       "20           90         2bbl  2.97    3.23              9.41         68   \n",
       "21           90         2bbl  2.97    3.23              9.40         68   \n",
       "22           98         mpfi  3.03    3.39              7.60        102   \n",
       "23           90         2bbl  2.97    3.23              9.40         68   \n",
       "24           90         2bbl  2.97    3.23              9.40         68   \n",
       "25           90         2bbl  2.97    3.23              9.40         68   \n",
       "26           98         mpfi  3.03    3.39              7.60        102   \n",
       "27          122         2bbl  3.34    3.46              8.50         88   \n",
       "28          156          mfi  3.60    3.90              7.00        145   \n",
       "29           92         1bbl  2.91    3.41              9.60         58   \n",
       "\n",
       "    peak_rpm city_mpg  highway_mpg  price  \n",
       "0       5000       21           27  13495  \n",
       "1       5000       21           27  16500  \n",
       "2       5000       19           26  16500  \n",
       "3       5500       24           30  13950  \n",
       "4       5500       18           22  17450  \n",
       "5       5500       19           25  15250  \n",
       "6       5500       19           25  17710  \n",
       "7       5500       19           25  18920  \n",
       "8       5500       17           20  23875  \n",
       "9       5800       23           29  16430  \n",
       "10      5800       23           29  16925  \n",
       "11      4250       21           28  20970  \n",
       "12      4250       21           28  21105  \n",
       "13      4250       20           25  24565  \n",
       "14      5400       16           22  30760  \n",
       "15      5400       16           22  41315  \n",
       "16      5400       15           20  36880  \n",
       "17      5100       47           53   5151  \n",
       "18      5400       38           43   6295  \n",
       "19      5400       38           43   6575  \n",
       "20      5500       37           41   5572  \n",
       "21      5500       31           38   6377  \n",
       "22      5500       24           30   7957  \n",
       "23      5500       31           38   6229  \n",
       "24      5500       31           38   6692  \n",
       "25      5500       31           38   7609  \n",
       "26      5500       24           30   8558  \n",
       "27      5000       24           30   8921  \n",
       "28      5000       19           24  12964  \n",
       "29      4800       49           54   6479  \n",
       "\n",
       "[30 rows x 26 columns]"
      ]
     },
     "execution_count": 2,
     "metadata": {},
     "output_type": "execute_result"
    }
   ],
   "source": [
    "# Display the first 30 rows.\n",
    "df.head(30)"
   ]
  },
  {
   "cell_type": "code",
   "execution_count": 3,
   "id": "63fc570f",
   "metadata": {},
   "outputs": [
    {
     "data": {
      "text/plain": [
       "Index(['symboling', 'normalized_losses', 'make', 'fuel_type', 'aspiration',\n",
       "       'number_of_doors', 'body_style', 'drive_wheels', 'engine_location',\n",
       "       'wheel_base', 'length', 'width', 'height', 'curb_weight', 'engine_type',\n",
       "       'number_of_cylinders', 'engine_size', 'fuel_system', 'bore', 'stroke',\n",
       "       'compression_ratio', 'horsepower', 'peak_rpm', 'city_mpg',\n",
       "       'highway_mpg', 'price'],\n",
       "      dtype='object')"
      ]
     },
     "execution_count": 3,
     "metadata": {},
     "output_type": "execute_result"
    }
   ],
   "source": [
    "# Print column names\n",
    "df.columns"
   ]
  },
  {
   "cell_type": "code",
   "execution_count": 4,
   "id": "540617d1",
   "metadata": {},
   "outputs": [
    {
     "data": {
      "text/plain": [
       "(201, 26)"
      ]
     },
     "execution_count": 4,
     "metadata": {},
     "output_type": "execute_result"
    }
   ],
   "source": [
    "# Print No of Rows & Columns\n",
    "df.shape"
   ]
  },
  {
   "cell_type": "code",
   "execution_count": 5,
   "id": "bf125906",
   "metadata": {},
   "outputs": [
    {
     "data": {
      "text/plain": [
       "symboling                int64\n",
       "normalized_losses        int64\n",
       "make                    object\n",
       "fuel_type               object\n",
       "aspiration              object\n",
       "number_of_doors         object\n",
       "body_style              object\n",
       "drive_wheels            object\n",
       "engine_location         object\n",
       "wheel_base             float64\n",
       "length                 float64\n",
       "width                  float64\n",
       "height                 float64\n",
       "curb_weight              int64\n",
       "engine_type             object\n",
       "number_of_cylinders     object\n",
       "engine_size              int64\n",
       "fuel_system             object\n",
       "bore                   float64\n",
       "stroke                 float64\n",
       "compression_ratio      float64\n",
       "horsepower               int64\n",
       "peak_rpm                 int64\n",
       "city_mpg                 int64\n",
       "highway_mpg              int64\n",
       "price                    int64\n",
       "dtype: object"
      ]
     },
     "execution_count": 5,
     "metadata": {},
     "output_type": "execute_result"
    }
   ],
   "source": [
    "#Find the Data Types of every column & check if there are any mismatch\n",
    "df.dtypes"
   ]
  },
  {
   "cell_type": "code",
   "execution_count": 12,
   "id": "96bbf064",
   "metadata": {},
   "outputs": [
    {
     "name": "stdout",
     "output_type": "stream",
     "text": [
      "Min Price:5118,Fuel Type:gas\n",
      "Max Price:45400,Fuel Type:gas\n"
     ]
    }
   ],
   "source": [
    "# What are the minimum & maximum price of the car & state fuel type they belong to\n",
    "min_price = df[\"price\"].min()\n",
    "max_price = df[\"price\"].max()\n",
    "min_fuel_type = df[df[\"price\"]==min_price]['fuel_type'].values[0]\n",
    "max_fuel_type = df[df[\"price\"]==max_price]['fuel_type'].values[0]\n",
    "print(f\"Min Price:{min_price},Fuel Type:{min_fuel_type}\")\n",
    "print(f\"Max Price:{max_price},Fuel Type:{max_fuel_type}\")"
   ]
  },
  {
   "cell_type": "code",
   "execution_count": 14,
   "id": "4d72b6d1",
   "metadata": {},
   "outputs": [
    {
     "name": "stdout",
     "output_type": "stream",
     "text": [
      "['dohc' 'ohcv' 'ohc' 'l' 'rotor' 'ohcf']\n"
     ]
    }
   ],
   "source": [
    "#List all the unique engine types\n",
    "unique_engine = df[\"engine_type\"].unique()\n",
    "print(unique_engine)"
   ]
  },
  {
   "cell_type": "code",
   "execution_count": 18,
   "id": "da142bff",
   "metadata": {},
   "outputs": [
    {
     "name": "stdout",
     "output_type": "stream",
     "text": [
      "Min_horsepower:  48\n",
      "Max_horsepower:  262\n",
      "Horsepower_Range:  214\n"
     ]
    }
   ],
   "source": [
    "# Find the horsepower range\n",
    "min_horsepower = df['horsepower'].min()\n",
    "max_horsepower = df['horsepower'].max()\n",
    "Horsepower_Range = max_horsepower - min_horsepower\n",
    "print(\"Min_horsepower: \",min_horsepower)\n",
    "print(\"Max_horsepower: \",max_horsepower)\n",
    "print(\"Horsepower_Range: \",Horsepower_Range)"
   ]
  },
  {
   "cell_type": "code",
   "execution_count": 19,
   "id": "426de668",
   "metadata": {},
   "outputs": [
    {
     "data": {
      "text/plain": [
       "Index(['symboling', 'normalized_losses', 'make', 'fuel_type', 'aspiration',\n",
       "       'number_of_doors', 'body_style', 'drive_wheels', 'engine_location',\n",
       "       'wheel_base', 'length', 'width', 'height', 'curb_weight', 'engine_type',\n",
       "       'number_of_cylinders', 'engine_size', 'fuel_system', 'bore', 'stroke',\n",
       "       'compression_ratio', 'horsepower', 'peak_rpm', 'city_mpg',\n",
       "       'highway_mpg', 'price'],\n",
       "      dtype='object')"
      ]
     },
     "execution_count": 19,
     "metadata": {},
     "output_type": "execute_result"
    }
   ],
   "source": [
    "df.columns"
   ]
  },
  {
   "cell_type": "code",
   "execution_count": 22,
   "id": "c20611f9",
   "metadata": {},
   "outputs": [
    {
     "name": "stdout",
     "output_type": "stream",
     "text": [
      "Average City MPG: 25.17910447761194\n",
      "AVerage Highway MPG: 30.686567164179106\n",
      "Highway MPG is Higher\n"
     ]
    }
   ],
   "source": [
    "# What is the average mpg in cities & highway. Which is better?\n",
    "\n",
    "average_city_mpg = df[\"city_mpg\"].mean()\n",
    "average_highway_mpg = df['highway_mpg'].mean()\n",
    "print(\"Average City MPG:\",average_city_mpg)\n",
    "print(\"AVerage Highway MPG:\",average_highway_mpg)\n",
    "if average_city_mpg > average_highway_mpg:\n",
    "    print(\"City MPG is higher\")\n",
    "else:\n",
    "    print(\"Highway MPG is Higher\")"
   ]
  },
  {
   "cell_type": "code",
   "execution_count": 23,
   "id": "bbb99d49",
   "metadata": {},
   "outputs": [
    {
     "name": "stdout",
     "output_type": "stream",
     "text": [
      "toyota           32\n",
      "nissan           18\n",
      "mazda            17\n",
      "mitsubishi       13\n",
      "honda            13\n",
      "volkswagen       12\n",
      "subaru           12\n",
      "peugot           11\n",
      "volvo            11\n",
      "dodge             9\n",
      "mercedes-benz     8\n",
      "bmw               8\n",
      "plymouth          7\n",
      "audi              6\n",
      "saab              6\n",
      "porsche           4\n",
      "jaguar            3\n",
      "chevrolet         3\n",
      "alfa-romero       3\n",
      "isuzu             2\n",
      "renault           2\n",
      "mercury           1\n",
      "Name: make, dtype: int64\n",
      "Most common make: toyota\n"
     ]
    }
   ],
   "source": [
    "#What are the different Automobile makes present & which has maximum count\n",
    "print(df[\"make\"].value_counts())\n",
    "print(f\"Most common make: {df['make'].value_counts().idxmax()}\")"
   ]
  },
  {
   "cell_type": "code",
   "execution_count": 24,
   "id": "24f6c280",
   "metadata": {},
   "outputs": [
    {
     "name": "stdout",
     "output_type": "stream",
     "text": [
      "      Name  Age  Score\n",
      "2  Charlie   22     78\n",
      "   Age  Score\n",
      "0   24     85\n",
      "1   27     90\n"
     ]
    }
   ],
   "source": [
    "df2 = pd.DataFrame({\n",
    "    \"Name\": [\"Alice\", \"Bob\", \"Charlie\", \"David\"],\n",
    "    \"Age\": [24, 27, 22, 32],\n",
    "    \"Score\": [85, 90, 78, 88]\n",
    "})\n",
    "#Retrieve the row where Name == \"Charlie\" using .loc[].\n",
    "print(df2.loc[df2[\"Name\"] == \"Charlie\"])\n",
    "#Select only the Age and Score columns for \"Alice\" and \"Bob\" using .loc[].\n",
    "print(df2.loc[df2[\"Name\"].isin([\"Alice\", \"Bob\"]), [\"Age\", \"Score\"]])"
   ]
  },
  {
   "cell_type": "code",
   "execution_count": 25,
   "id": "11064ad6",
   "metadata": {},
   "outputs": [
    {
     "name": "stdout",
     "output_type": "stream",
     "text": [
      "Name     Bob\n",
      "Age       27\n",
      "Score     90\n",
      "Name: 1, dtype: object\n",
      "      Name  Age  Score\n",
      "2  Charlie   22     78\n",
      "3    David   32     88\n"
     ]
    }
   ],
   "source": [
    "#Retrieve the second row using .iloc[].\n",
    "print(df2.iloc[1]) \n",
    "#Extract the last two rows using .iloc[].\n",
    "print(df2.iloc[-2:])"
   ]
  },
  {
   "cell_type": "code",
   "execution_count": 27,
   "id": "a37c4a5e",
   "metadata": {},
   "outputs": [
    {
     "name": "stdout",
     "output_type": "stream",
     "text": [
      "  Employee  Salary Department\n",
      "0     John   50000         IT\n",
      "2      Bob   55000         IT\n",
      "  Employee  Salary Department\n",
      "1    Alice   60000         HR\n",
      "3    David   65000    Finance\n"
     ]
    }
   ],
   "source": [
    "df3 = pd.DataFrame({\n",
    "    \"Employee\": [\"John\", \"Alice\", \"Bob\", \"David\"],\n",
    "    \"Salary\": [50000, 60000, 55000, 65000],\n",
    "    \"Department\": [\"IT\", \"HR\", \"IT\", \"Finance\"]\n",
    "})\n",
    "#Select only IT employees\n",
    "print(df3[df3[\"Department\"] == \"IT\"])\n",
    "#Select employees with a salary greater than 55,000.\n",
    "print(df3[df3[\"Salary\"]>55000])"
   ]
  },
  {
   "cell_type": "code",
   "execution_count": 30,
   "id": "c40a0b22",
   "metadata": {},
   "outputs": [
    {
     "name": "stdout",
     "output_type": "stream",
     "text": [
      "  Student  Marks Result\n",
      "0       A     45   Fail\n",
      "1       B     78   Pass\n",
      "2       C     62   Pass\n",
      "3       D     90   Pass\n"
     ]
    }
   ],
   "source": [
    "df4 = pd.DataFrame({\n",
    "    \"Student\": [\"A\", \"B\", \"C\", \"D\"],\n",
    "    \"Marks\": [45, 78, 62, 90]\n",
    "})\n",
    "#Converts marks below 50 to \"Fail\", and 50 or above to \"Pass\"\n",
    "def pass_fail(marks):\n",
    "    return \"Fail\" if marks<50 else \"Pass\"\n",
    "\n",
    "#Apply this function to the \"Marks\" column and create a new column \"Result\".\n",
    "df4[\"Result\"] = df4[\"Marks\"].apply(pass_fail)\n",
    "print(df4)"
   ]
  },
  {
   "cell_type": "code",
   "execution_count": 33,
   "id": "95941fb4",
   "metadata": {},
   "outputs": [
    {
     "data": {
      "text/plain": [
       "'Fail'"
      ]
     },
     "execution_count": 33,
     "metadata": {},
     "output_type": "execute_result"
    }
   ],
   "source": [
    "pass_fail(34)"
   ]
  },
  {
   "cell_type": "code",
   "execution_count": 34,
   "id": "be4ffec9",
   "metadata": {},
   "outputs": [
    {
     "data": {
      "text/plain": [
       "'Pass'"
      ]
     },
     "execution_count": 34,
     "metadata": {},
     "output_type": "execute_result"
    }
   ],
   "source": [
    "pass_fail(98)"
   ]
  },
  {
   "cell_type": "code",
   "execution_count": 37,
   "id": "95e7a959",
   "metadata": {},
   "outputs": [
    {
     "name": "stdout",
     "output_type": "stream",
     "text": [
      "[ 1  2  3  4  5  6  7  8  9 10 11 12]\n",
      "[[ 1  2  3  4]\n",
      " [ 5  6  7  8]\n",
      " [ 9 10 11 12]]\n"
     ]
    }
   ],
   "source": [
    "#Create a NumPy array with values from 1 to 12.\n",
    "import numpy as np\n",
    "arr = np.arange(1,13)\n",
    "print(arr)\n",
    "#Reshape it into a 3x4 matrix.\n",
    "arr1= arr.reshape(3,4)\n",
    "print(arr1)"
   ]
  },
  {
   "cell_type": "code",
   "execution_count": 38,
   "id": "880222d7",
   "metadata": {},
   "outputs": [
    {
     "name": "stdout",
     "output_type": "stream",
     "text": [
      "[10 40 90]\n",
      "[6 7 8]\n"
     ]
    }
   ],
   "source": [
    "a = np.array([1, 2, 3])\n",
    "b = np.array([10, 20, 30])\n",
    "#Element-wise multiplication of a and b.\n",
    "print(a*b)\n",
    "#Add 5 to each element of a using broadcasting\n",
    "print(a+5)"
   ]
  },
  {
   "cell_type": "code",
   "execution_count": 40,
   "id": "2e16af5d",
   "metadata": {},
   "outputs": [
    {
     "name": "stdout",
     "output_type": "stream",
     "text": [
      "9\n",
      "[2 4]\n"
     ]
    }
   ],
   "source": [
    "arr1 = np.array([[3, 7, 2], [4, 9, 6]])\n",
    "# Find the maximum value in the entire array.\n",
    "print(arr1.max())\n",
    "# Find the minimum value in each row.\n",
    "print(arr1.min(axis=1))"
   ]
  },
  {
   "cell_type": "code",
   "execution_count": 41,
   "id": "e9df9165",
   "metadata": {},
   "outputs": [
    {
     "name": "stdout",
     "output_type": "stream",
     "text": [
      "Department\n",
      "Finance    60000.0\n",
      "HR         51000.0\n",
      "IT         75000.0\n",
      "Name: Salary, dtype: float64\n"
     ]
    }
   ],
   "source": [
    "df5 = pd.DataFrame({\n",
    "    \"Department\": [\"IT\", \"HR\", \"IT\", \"Finance\", \"HR\"],\n",
    "    \"Salary\": [70000, 50000, 80000, 60000, 52000]\n",
    "})\n",
    "#Group the DataFrame by \"Department\" and calculate the average salary per department\n",
    "print(df5.groupby(\"Department\")[\"Salary\"].mean())"
   ]
  },
  {
   "cell_type": "code",
   "execution_count": 44,
   "id": "df63811b",
   "metadata": {},
   "outputs": [
    {
     "name": "stdout",
     "output_type": "stream",
     "text": [
      "          City  Population\n",
      "0     New York     8419600\n",
      "1  Los Angeles     3980400\n",
      "2      Chicago     2716000\n",
      "3      Houston     2328000\n"
     ]
    }
   ],
   "source": [
    "df6 = pd.DataFrame({\n",
    "    \"City\": [\"New York\", \"Los Angeles\", \"Chicago\", \"Houston\"],\n",
    "    \"Population\": [8419600, 3980400, 2716000, 2328000]\n",
    "})\n",
    "#Sort the DataFrame by Population in descending order\n",
    "df_sorted = df6.sort_values(by=\"Population\", ascending=False)\n",
    "\n",
    "print(df_sorted)"
   ]
  },
  {
   "cell_type": "code",
   "execution_count": 45,
   "id": "89d2270e",
   "metadata": {},
   "outputs": [
    {
     "name": "stdout",
     "output_type": "stream",
     "text": [
      "180\n"
     ]
    }
   ],
   "source": [
    "data = {\n",
    "    \"Region\": [\"North\", \"North\", \"South\", \"South\", \"East\", \"East\"],\n",
    "    \"City\": [\"A\", \"B\", \"A\", \"B\", \"A\", \"B\"],\n",
    "    \"Sales\": [200, 150, 180, 220, 300, 250]\n",
    "}\n",
    "df = pd.DataFrame(data).set_index([\"Region\", \"City\"])\n",
    "#Retrieve the sales value for City A in the South Region using multi-indexing.\n",
    "sales_value = df.loc[(\"South\", \"A\"), \"Sales\"]\n",
    "\n",
    "print(sales_value)"
   ]
  },
  {
   "cell_type": "code",
   "execution_count": 47,
   "id": "55401629",
   "metadata": {},
   "outputs": [
    {
     "name": "stdout",
     "output_type": "stream",
     "text": [
      "    A   B   C   D\n",
      "0  55  45  83  29\n",
      "1  73  10  71  11\n",
      "2  83  81  78  27\n",
      "3  53  15  19  97\n",
      "4  72  90  93  12\n"
     ]
    }
   ],
   "source": [
    "# Generate a 5x4 NumPy array with random integers between 10 and 99\n",
    "array = np.random.randint(10, 100, size=(5, 4))\n",
    "\n",
    "# Convert it into a Pandas DataFrame with specified column names\n",
    "df = pd.DataFrame(array, columns=[\"A\", \"B\", \"C\", \"D\"])\n",
    "\n",
    "print(df)\n"
   ]
  },
  {
   "cell_type": "code",
   "execution_count": 49,
   "id": "c5e8d01d",
   "metadata": {},
   "outputs": [
    {
     "data": {
      "text/html": [
       "<div>\n",
       "<style scoped>\n",
       "    .dataframe tbody tr th:only-of-type {\n",
       "        vertical-align: middle;\n",
       "    }\n",
       "\n",
       "    .dataframe tbody tr th {\n",
       "        vertical-align: top;\n",
       "    }\n",
       "\n",
       "    .dataframe thead th {\n",
       "        text-align: right;\n",
       "    }\n",
       "</style>\n",
       "<table border=\"1\" class=\"dataframe\">\n",
       "  <thead>\n",
       "    <tr style=\"text-align: right;\">\n",
       "      <th></th>\n",
       "      <th>Student</th>\n",
       "      <th>Marks</th>\n",
       "      <th>Attendance</th>\n",
       "    </tr>\n",
       "  </thead>\n",
       "  <tbody>\n",
       "    <tr>\n",
       "      <th>0</th>\n",
       "      <td>Alice</td>\n",
       "      <td>88</td>\n",
       "      <td>85</td>\n",
       "    </tr>\n",
       "    <tr>\n",
       "      <th>1</th>\n",
       "      <td>Bob</td>\n",
       "      <td>0</td>\n",
       "      <td>50</td>\n",
       "    </tr>\n",
       "    <tr>\n",
       "      <th>2</th>\n",
       "      <td>Charlie</td>\n",
       "      <td>76</td>\n",
       "      <td>90</td>\n",
       "    </tr>\n",
       "    <tr>\n",
       "      <th>3</th>\n",
       "      <td>David</td>\n",
       "      <td>90</td>\n",
       "      <td>60</td>\n",
       "    </tr>\n",
       "  </tbody>\n",
       "</table>\n",
       "</div>"
      ],
      "text/plain": [
       "   Student  Marks  Attendance\n",
       "0    Alice     88          85\n",
       "1      Bob      0          50\n",
       "2  Charlie     76          90\n",
       "3    David     90          60"
      ]
     },
     "execution_count": 49,
     "metadata": {},
     "output_type": "execute_result"
    }
   ],
   "source": [
    "df = pd.DataFrame({\n",
    "    \"Student\": [\"Alice\", \"Bob\", \"Charlie\", \"David\"],\n",
    "    \"Marks\": [88, 45, 76, 90],\n",
    "    \"Attendance\": [85, 50, 90, 60]\n",
    "})\n",
    "\n",
    "#Write a one-liner Pandas command to set \"Marks\" to 0 for students whose \"Attendance\" is less than 60.\n",
    "df.loc[df[\"Attendance\"] < 60, \"Marks\"] = 0\n",
    "df"
   ]
  },
  {
   "cell_type": "code",
   "execution_count": 50,
   "id": "dbb657d0",
   "metadata": {},
   "outputs": [],
   "source": [
    "# Create a sample DataFrame\n",
    "data = {\n",
    "    \"EmployeeID\": [101, 102, 103, 104, 105],\n",
    "    \"Department\": [\"IT\", \"Finance\", \"IT\", \"HR\", \"Finance\"],\n",
    "    \"Salary\": [70000, 80000, 50000, 45000, 90000],\n",
    "    \"Experience\": [6, 8, 4, 3, 7]\n",
    "}\n",
    "\n",
    "df = pd.DataFrame(data)\n",
    "\n",
    "# Save the DataFrame to a CSV file\n",
    "df.to_csv(\"employees.csv\", index=False)\n"
   ]
  },
  {
   "cell_type": "code",
   "execution_count": 51,
   "id": "10411c8b",
   "metadata": {},
   "outputs": [
    {
     "name": "stdout",
     "output_type": "stream",
     "text": [
      "   EmployeeID Department  Salary  Experience\n",
      "0         101         IT   70000           6\n",
      "1         102    Finance   80000           8\n",
      "4         105    Finance   90000           7\n"
     ]
    }
   ],
   "source": [
    "# Read the CSV file\n",
    "df = pd.read_csv(\"employees.csv\")\n",
    "\n",
    "# Apply the query to select employees from 'IT' or 'Finance' department\n",
    "# with Salary > 60,000 and at least 5 years of experience\n",
    "result = df.query('Department in [\"IT\", \"Finance\"] and Salary > 60000 and Experience >= 5')\n",
    "\n",
    "print(result)\n"
   ]
  },
  {
   "cell_type": "code",
   "execution_count": 52,
   "id": "4fd57e15",
   "metadata": {},
   "outputs": [
    {
     "name": "stdout",
     "output_type": "stream",
     "text": [
      "Department\n",
      "Finance    72000.000000\n",
      "IT         71666.666667\n",
      "Name: Salary, dtype: float64\n"
     ]
    }
   ],
   "source": [
    "\n",
    "df = pd.DataFrame({\n",
    "    \"Department\": [\"IT\", \"HR\", \"IT\", \"Finance\", \"HR\", \"Finance\", \"IT\"],\n",
    "    \"Salary\": [70000, 50000, 80000, 60000, 52000, 72000, 65000],\n",
    "    \"Experience\": [5, 4, 7, 3, 2, 8, 6]\n",
    "})\n",
    "#Find the average salary for each department, but only for employees with at least 5 years of experience.\n",
    "\n",
    "# Filter the DataFrame for employees with at least 5 years of experience\n",
    "filtered_df = df[df[\"Experience\"] >= 5]\n",
    "\n",
    "# Group by department and calculate the average salary\n",
    "average_salary = filtered_df.groupby(\"Department\")[\"Salary\"].mean()\n",
    "\n",
    "print(average_salary)\n"
   ]
  },
  {
   "cell_type": "code",
   "execution_count": 57,
   "id": "de88d55c",
   "metadata": {},
   "outputs": [
    {
     "name": "stdout",
     "output_type": "stream",
     "text": [
      "Array:\n",
      "[[ 7 44 50 87 87]\n",
      " [59 51 23  8 24]\n",
      " [86 88 17 92 38]\n",
      " [21 63 33 51  3]\n",
      " [85 34  6 51 52]]\n"
     ]
    }
   ],
   "source": [
    "# Create a 5x5 NumPy array with random values between 1 and 100\n",
    "arr = np.random.randint(1, 101, size=(5, 5))\n",
    "print(\"Array:\")\n",
    "print(arr)"
   ]
  },
  {
   "cell_type": "code",
   "execution_count": 58,
   "id": "b01953d4",
   "metadata": {},
   "outputs": [
    {
     "name": "stdout",
     "output_type": "stream",
     "text": [
      "\n",
      "Even Numbers:\n",
      "[44 50  8 24 86 88 92 38 34  6 52]\n"
     ]
    }
   ],
   "source": [
    "# Extract only even numbers\n",
    "even_numbers = arr[arr % 2 == 0]\n",
    "print(\"\\nEven Numbers:\")\n",
    "print(even_numbers)"
   ]
  },
  {
   "cell_type": "code",
   "execution_count": 59,
   "id": "1eabf5c6",
   "metadata": {},
   "outputs": [
    {
     "name": "stdout",
     "output_type": "stream",
     "text": [
      "\n",
      "Last Row:\n",
      "[85 34  6 51 52]\n",
      "\n",
      "Last Column:\n",
      "[87 24 38  3 52]\n"
     ]
    }
   ],
   "source": [
    "# Extract values from the last row and last column\n",
    "last_row = arr[-1, :]\n",
    "last_column = arr[:, -1]\n",
    "\n",
    "print(\"\\nLast Row:\")\n",
    "print(last_row)\n",
    "print(\"\\nLast Column:\")\n",
    "print(last_column)\n"
   ]
  },
  {
   "cell_type": "code",
   "execution_count": 60,
   "id": "189ab1a5",
   "metadata": {},
   "outputs": [
    {
     "name": "stdout",
     "output_type": "stream",
     "text": [
      "\n",
      "Array after replacing values greater than 50 with 0:\n",
      "[[ 7 44 50  0  0]\n",
      " [ 0  0 23  8 24]\n",
      " [ 0  0 17  0 38]\n",
      " [21  0 33  0  3]\n",
      " [ 0 34  6  0  0]]\n"
     ]
    }
   ],
   "source": [
    "# Replace all values greater than 50 with 0\n",
    "arr[arr > 50] = 0\n",
    "\n",
    "print(\"\\nArray after replacing values greater than 50 with 0:\")\n",
    "print(arr)\n"
   ]
  },
  {
   "cell_type": "code",
   "execution_count": 61,
   "id": "7b159f76",
   "metadata": {},
   "outputs": [
    {
     "name": "stdout",
     "output_type": "stream",
     "text": [
      "Matrix multiplication result:\n",
      "[[22 34]\n",
      " [46 74]]\n"
     ]
    }
   ],
   "source": [
    "A = np.array([[2, 4], [6, 8]])\n",
    "B = np.array([[1, 3], [5, 7]])\n",
    "\n",
    "#Perform matrix multiplication and output the result\n",
    "result = A @ B\n",
    "\n",
    "print(\"Matrix multiplication result:\")\n",
    "print(result)"
   ]
  },
  {
   "cell_type": "code",
   "execution_count": 62,
   "id": "d8e453d2",
   "metadata": {},
   "outputs": [
    {
     "name": "stdout",
     "output_type": "stream",
     "text": [
      "Common elements: [30 40]\n",
      "Elements in arr1 but not in arr2: [10 20 50 60]\n"
     ]
    }
   ],
   "source": [
    "arr1 = np.array([10, 20, 30, 40, 50, 60])\n",
    "arr2 = np.array([30, 40, 70, 80, 90])\n",
    "\n",
    "#Find the elements that are common in both arrays.\n",
    "common_elements = np.intersect1d(arr1, arr2)\n",
    "\n",
    "#Find the elements that are only present in arr1 but not in arr2\n",
    "only_in_arr1 = np.setdiff1d(arr1, arr2)\n",
    "\n",
    "print(\"Common elements:\", common_elements)\n",
    "print(\"Elements in arr1 but not in arr2:\", only_in_arr1)"
   ]
  },
  {
   "cell_type": "code",
   "execution_count": null,
   "id": "a9c6987d",
   "metadata": {},
   "outputs": [],
   "source": [
    "You are given the following DataFrame:\n",
    "df = pd.DataFrame({\n",
    "    \"Player\": [\"A\", \"B\", \"C\", \"D\"],\n",
    "    \"Score\": [200, 450, 300, 150]\n",
    "})\n",
    "Task\n",
    "#Sort the players by descending Score.\n",
    "#Assign ranking to each player (1st, 2nd, 3rd...) without skipping numbers\n"
   ]
  },
  {
   "cell_type": "code",
   "execution_count": 63,
   "id": "5cf0f3a7",
   "metadata": {},
   "outputs": [
    {
     "name": "stdout",
     "output_type": "stream",
     "text": [
      "  Player  Score  Rank\n",
      "1      B    450     1\n",
      "2      C    300     2\n",
      "0      A    200     3\n",
      "3      D    150     4\n"
     ]
    }
   ],
   "source": [
    "df = pd.DataFrame({\n",
    "    \"Player\": [\"A\", \"B\", \"C\", \"D\"],\n",
    "    \"Score\": [200, 450, 300, 150]\n",
    "})\n",
    "\n",
    "# Sort the players by descending Score\n",
    "df_sorted = df.sort_values(by=\"Score\", ascending=False)\n",
    "\n",
    "# Assign ranking to each player\n",
    "df_sorted[\"Rank\"] = range(1, len(df_sorted) + 1)\n",
    "\n",
    "# Output the result\n",
    "print(df_sorted)\n"
   ]
  },
  {
   "cell_type": "code",
   "execution_count": 64,
   "id": "e0bca348",
   "metadata": {},
   "outputs": [
    {
     "data": {
      "text/plain": [
       "Index(['invoice_no', 'customer_id', 'gender', 'age', 'category', 'quantity',\n",
       "       'price', 'payment_method', 'invoice_date', 'shopping_mall'],\n",
       "      dtype='object')"
      ]
     },
     "execution_count": 64,
     "metadata": {},
     "output_type": "execute_result"
    }
   ],
   "source": [
    "df = pd.read_csv('big data.csv')\n",
    "df.columns"
   ]
  },
  {
   "cell_type": "code",
   "execution_count": 65,
   "id": "440f2d2f",
   "metadata": {},
   "outputs": [
    {
     "data": {
      "text/plain": [
       "(99457, 10)"
      ]
     },
     "execution_count": 65,
     "metadata": {},
     "output_type": "execute_result"
    }
   ],
   "source": [
    "df.shape"
   ]
  },
  {
   "cell_type": "code",
   "execution_count": 68,
   "id": "b11ae26d",
   "metadata": {},
   "outputs": [
    {
     "name": "stdout",
     "output_type": "stream",
     "text": [
      "  customer_id    price\n",
      "0     C241288  1500.40\n",
      "1     C111565  1800.51\n",
      "2     C266599   300.08\n",
      "3     C988172  3000.85\n",
      "4     C189076    60.60\n"
     ]
    }
   ],
   "source": [
    "import pandas as pd\n",
    "\n",
    "# Define the columns to load\n",
    "columns_to_load = [\"customer_id\", \"price\"]\n",
    "\n",
    "# Use the \"dtype\" argument to specify the most memory-efficient data type for CustomerID\n",
    "# Assuming \"CustomerID\" is an integer or a category (use 'category' for better memory efficiency)\n",
    "dtype = {\"customer_id\": \"category\"}\n",
    "\n",
    "# Load the first 100,000 rows and only the specified columns\n",
    "df = pd.read_csv(\"big data.csv\", usecols=columns_to_load, nrows=100000, dtype=dtype)\n",
    "\n",
    "# Output the first few rows to verify\n",
    "print(df.head())\n"
   ]
  },
  {
   "cell_type": "code",
   "execution_count": 69,
   "id": "9a7823ae",
   "metadata": {},
   "outputs": [],
   "source": [
    "import pandas as pd\n",
    "import numpy as np\n",
    "\n",
    "# Set the number of records\n",
    "num_records = 1000000\n",
    "\n",
    "# Generate synthetic data\n",
    "data = {\n",
    "    \"CustomerID\": np.random.randint(1000, 9999, size=num_records),\n",
    "    \"PurchaseAmount\": np.random.uniform(10, 1000, size=num_records)\n",
    "}\n",
    "\n",
    "# Create a DataFrame\n",
    "df = pd.DataFrame(data)\n",
    "\n",
    "# Save to CSV\n",
    "df.to_csv(\"big_data.csv\", index=False)\n"
   ]
  },
  {
   "cell_type": "code",
   "execution_count": 72,
   "id": "23093d05",
   "metadata": {},
   "outputs": [
    {
     "name": "stdout",
     "output_type": "stream",
     "text": [
      "      CustomerID  PurchaseAmount\n",
      "0           9272          949.91\n",
      "1           8443          554.00\n",
      "2           1660          644.93\n",
      "3           7058          949.75\n",
      "4           3336          255.20\n",
      "...          ...             ...\n",
      "99995       3517          757.75\n",
      "99996       9816          261.45\n",
      "99997       6875          704.83\n",
      "99998       5678          389.33\n",
      "99999       9569          130.20\n",
      "\n",
      "[100000 rows x 2 columns]\n"
     ]
    }
   ],
   "source": [
    "# Define the columns to load\n",
    "columns_to_load = [\"CustomerID\", \"PurchaseAmount\"]\n",
    "\n",
    "# Use the \"dtype\" argument to specify the most memory-efficient data type for CustomerID\n",
    "# Assuming \"CustomerID\" is an integer or a category (use 'category' for better memory efficiency)\n",
    "dtype = {\"CustomerID\": \"category\"}\n",
    "\n",
    "# Load the first 100,000 rows and only the specified columns\n",
    "df = pd.read_csv(\"big_data.csv\", usecols=columns_to_load, nrows=100000, dtype=dtype)\n",
    "df[\"PurchaseAmount\"] = df[\"PurchaseAmount\"].round(2)\n",
    "print(df)\n"
   ]
  },
  {
   "cell_type": "code",
   "execution_count": null,
   "id": "8db9be50",
   "metadata": {},
   "outputs": [],
   "source": []
  }
 ],
 "metadata": {
  "kernelspec": {
   "display_name": "Python 3 (ipykernel)",
   "language": "python",
   "name": "python3"
  },
  "language_info": {
   "codemirror_mode": {
    "name": "ipython",
    "version": 3
   },
   "file_extension": ".py",
   "mimetype": "text/x-python",
   "name": "python",
   "nbconvert_exporter": "python",
   "pygments_lexer": "ipython3",
   "version": "3.9.7"
  }
 },
 "nbformat": 4,
 "nbformat_minor": 5
}
